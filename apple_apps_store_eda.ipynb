{
 "cells": [
  {
   "cell_type": "markdown",
   "metadata": {},
   "source": [
    "# ***Apple App Store Data Set***"
   ]
  },
  {
   "cell_type": "markdown",
   "metadata": {},
   "source": [
    "\n",
    ">#### 1.0- ***About Author***\n",
    ">##### *Project*- Exploratory Data Analysis (Apple App Store Data),   *Author*: Hafiza Anam Masood\n",
    ">##### *Notebook submission Date*:18.08.2023,   *Author's Contact Info*: [Email](gmail.jpg) , [Linkedin](image-2.png) \n"
   ]
  },
  {
   "cell_type": "markdown",
   "metadata": {},
   "source": [
    "###  2.0-  ***About Data***\n",
    "\n"
   ]
  },
  {
   "cell_type": "markdown",
   "metadata": {},
   "source": [
    "> Dataset: Apple AppStore\n",
    "> \n",
    "> Date Age: The dataset of AppStore was scrapped in the month of October 2021.\n",
    "> \n",
    "> *Dataset*:   https://www.kaggle.com/code/azambukhari/appleeda\n",
    "> "
   ]
  },
  {
   "cell_type": "markdown",
   "metadata": {},
   "source": [
    "## 2.1- Task:"
   ]
  },
  {
   "cell_type": "markdown",
   "metadata": {},
   "source": [
    "    \n",
    "        - The author aims to perform exploratory data analysis (EDA) that will include the following steps: \n",
    "        - Data Collection- Apple App Store data will be obtained from a reliable source such as Kaggle. \n",
    "        - Data Cleaning - the stepwise Data Wrangling will be performed to clean the data for further analysis. \n",
    "        - Data Exploration-to understand the data, descriptive statistics and visualization are performed. \n",
    "          It helps to understand its distribution, relationships, and patterns. \n",
    "        - Data Interpolation - The documentation will be completed after each coding process. The data sets \n",
    "          will be summarized and the conclusions drawn from our results. Finally, recommendations and suggestions\n",
    "          will be provided on the basis of the insights.\n",
    "\n",
    "  "
   ]
  },
  {
   "cell_type": "markdown",
   "metadata": {},
   "source": [
    "## 2.2-Objectives:"
   ]
  },
  {
   "cell_type": "markdown",
   "metadata": {},
   "source": [
    "        -The primary aim of the project is to gain insights into Apple App Store data. Apps are classified by \n",
    "          genre,rating,   price and other features. \n",
    "        -This exploratory data analysis (EDA) of App Store data provides deep insights into the app market, \n",
    "          user preferences. \n",
    "        - The In-depth content analysis will help developers to fine-tune the content of different content \n",
    "           ratings."
   ]
  },
  {
   "cell_type": "markdown",
   "metadata": {},
   "source": [
    "#### 2.3 Kernal Version"
   ]
  },
  {
   "cell_type": "markdown",
   "metadata": {},
   "source": [
    " Python 3.11.4"
   ]
  },
  {
   "cell_type": "markdown",
   "metadata": {},
   "source": [
    "### 3.0- Import libraries "
   ]
  },
  {
   "cell_type": "code",
   "execution_count": null,
   "metadata": {},
   "outputs": [],
   "source": [
    "import pandas as pd\n",
    "import numpy as np\n",
    "# to show plots in jupyter notebook\n",
    "import matplotlib.pyplot as plt\n",
    "%matplotlib inline  \n",
    "import seaborn as sns\n",
    "import scipy as sp"
   ]
  },
  {
   "cell_type": "markdown",
   "metadata": {},
   "source": [
    "### 4.0- Data Loading, Exploration and Wrangling"
   ]
  },
  {
   "cell_type": "markdown",
   "metadata": {},
   "source": [
    "#### 4.1- Data Loading\n",
    "##### Pandas library will be used to import the Apple App dataset from a CSV file.\n"
   ]
  },
  {
   "cell_type": "code",
   "execution_count": 106,
   "metadata": {},
   "outputs": [],
   "source": [
    "# lets load the data\n",
    "df = pd.read_csv('appleAppData.csv')\n"
   ]
  },
  {
   "cell_type": "markdown",
   "metadata": {},
   "source": [
    "### 4.2- Data Exploration\n",
    "To undedrstand data, its charecteristics and any missing values , the data will be explored. "
   ]
  },
  {
   "cell_type": "code",
   "execution_count": 107,
   "metadata": {},
   "outputs": [
    {
     "data": {
      "text/html": [
       "<div>\n",
       "<style scoped>\n",
       "    .dataframe tbody tr th:only-of-type {\n",
       "        vertical-align: middle;\n",
       "    }\n",
       "\n",
       "    .dataframe tbody tr th {\n",
       "        vertical-align: top;\n",
       "    }\n",
       "\n",
       "    .dataframe thead th {\n",
       "        text-align: right;\n",
       "    }\n",
       "</style>\n",
       "<table border=\"1\" class=\"dataframe\">\n",
       "  <thead>\n",
       "    <tr style=\"text-align: right;\">\n",
       "      <th></th>\n",
       "      <th>App_Id</th>\n",
       "      <th>App_Name</th>\n",
       "      <th>AppStore_Url</th>\n",
       "      <th>Primary_Genre</th>\n",
       "      <th>Content_Rating</th>\n",
       "      <th>Size_Bytes</th>\n",
       "      <th>Required_IOS_Version</th>\n",
       "      <th>Released</th>\n",
       "      <th>Updated</th>\n",
       "      <th>Version</th>\n",
       "      <th>...</th>\n",
       "      <th>Currency</th>\n",
       "      <th>Free</th>\n",
       "      <th>DeveloperId</th>\n",
       "      <th>Developer</th>\n",
       "      <th>Developer_Url</th>\n",
       "      <th>Developer_Website</th>\n",
       "      <th>Average_User_Rating</th>\n",
       "      <th>Reviews</th>\n",
       "      <th>Current_Version_Score</th>\n",
       "      <th>Current_Version_Reviews</th>\n",
       "    </tr>\n",
       "  </thead>\n",
       "  <tbody>\n",
       "    <tr>\n",
       "      <th>0</th>\n",
       "      <td>com.hkbu.arc.apaper</td>\n",
       "      <td>A+ Paper Guide</td>\n",
       "      <td>https://apps.apple.com/us/app/a-paper-guide/id...</td>\n",
       "      <td>Education</td>\n",
       "      <td>4+</td>\n",
       "      <td>21993472.0</td>\n",
       "      <td>8.0</td>\n",
       "      <td>2017-09-28T03:02:41Z</td>\n",
       "      <td>2018-12-21T21:30:36Z</td>\n",
       "      <td>1.1.2</td>\n",
       "      <td>...</td>\n",
       "      <td>USD</td>\n",
       "      <td>True</td>\n",
       "      <td>1375410542</td>\n",
       "      <td>HKBU ARC</td>\n",
       "      <td>https://apps.apple.com/us/developer/hkbu-arc/i...</td>\n",
       "      <td>NaN</td>\n",
       "      <td>0.0</td>\n",
       "      <td>0</td>\n",
       "      <td>0.0</td>\n",
       "      <td>0</td>\n",
       "    </tr>\n",
       "    <tr>\n",
       "      <th>1</th>\n",
       "      <td>com.dmitriev.abooks</td>\n",
       "      <td>A-Books</td>\n",
       "      <td>https://apps.apple.com/us/app/a-books/id103157...</td>\n",
       "      <td>Book</td>\n",
       "      <td>4+</td>\n",
       "      <td>13135872.0</td>\n",
       "      <td>10.0</td>\n",
       "      <td>2015-08-31T19:31:32Z</td>\n",
       "      <td>2019-07-23T20:31:09Z</td>\n",
       "      <td>1.3</td>\n",
       "      <td>...</td>\n",
       "      <td>USD</td>\n",
       "      <td>True</td>\n",
       "      <td>1031572001</td>\n",
       "      <td>Roman Dmitriev</td>\n",
       "      <td>https://apps.apple.com/us/developer/roman-dmit...</td>\n",
       "      <td>NaN</td>\n",
       "      <td>5.0</td>\n",
       "      <td>1</td>\n",
       "      <td>5.0</td>\n",
       "      <td>1</td>\n",
       "    </tr>\n",
       "    <tr>\n",
       "      <th>2</th>\n",
       "      <td>no.terp.abooks</td>\n",
       "      <td>A-books</td>\n",
       "      <td>https://apps.apple.com/us/app/a-books/id145702...</td>\n",
       "      <td>Book</td>\n",
       "      <td>4+</td>\n",
       "      <td>21943296.0</td>\n",
       "      <td>9.0</td>\n",
       "      <td>2021-04-14T07:00:00Z</td>\n",
       "      <td>2021-05-30T21:08:54Z</td>\n",
       "      <td>1.3.1</td>\n",
       "      <td>...</td>\n",
       "      <td>USD</td>\n",
       "      <td>True</td>\n",
       "      <td>1457024163</td>\n",
       "      <td>Terp AS</td>\n",
       "      <td>https://apps.apple.com/us/developer/terp-as/id...</td>\n",
       "      <td>NaN</td>\n",
       "      <td>0.0</td>\n",
       "      <td>0</td>\n",
       "      <td>0.0</td>\n",
       "      <td>0</td>\n",
       "    </tr>\n",
       "    <tr>\n",
       "      <th>3</th>\n",
       "      <td>fr.antoinettefleur.Book1</td>\n",
       "      <td>A-F Book #1</td>\n",
       "      <td>https://apps.apple.com/us/app/a-f-book-1/id500...</td>\n",
       "      <td>Book</td>\n",
       "      <td>4+</td>\n",
       "      <td>81851392.0</td>\n",
       "      <td>8.0</td>\n",
       "      <td>2012-02-10T03:40:07Z</td>\n",
       "      <td>2019-10-29T12:40:37Z</td>\n",
       "      <td>1.2</td>\n",
       "      <td>...</td>\n",
       "      <td>USD</td>\n",
       "      <td>False</td>\n",
       "      <td>439568839</td>\n",
       "      <td>i-editeur.com</td>\n",
       "      <td>https://apps.apple.com/us/developer/i-editeur-...</td>\n",
       "      <td>NaN</td>\n",
       "      <td>0.0</td>\n",
       "      <td>0</td>\n",
       "      <td>0.0</td>\n",
       "      <td>0</td>\n",
       "    </tr>\n",
       "    <tr>\n",
       "      <th>4</th>\n",
       "      <td>com.imonstersoft.azdictionaryios</td>\n",
       "      <td>A-Z Synonyms Dictionary</td>\n",
       "      <td>https://apps.apple.com/us/app/a-z-synonyms-dic...</td>\n",
       "      <td>Reference</td>\n",
       "      <td>4+</td>\n",
       "      <td>64692224.0</td>\n",
       "      <td>9.0</td>\n",
       "      <td>2020-12-16T08:00:00Z</td>\n",
       "      <td>2020-12-18T21:36:11Z</td>\n",
       "      <td>1.0.1</td>\n",
       "      <td>...</td>\n",
       "      <td>USD</td>\n",
       "      <td>True</td>\n",
       "      <td>656731821</td>\n",
       "      <td>Ngov chiheang</td>\n",
       "      <td>https://apps.apple.com/us/developer/ngov-chihe...</td>\n",
       "      <td>http://imonstersoft.com</td>\n",
       "      <td>0.0</td>\n",
       "      <td>0</td>\n",
       "      <td>0.0</td>\n",
       "      <td>0</td>\n",
       "    </tr>\n",
       "  </tbody>\n",
       "</table>\n",
       "<p>5 rows × 21 columns</p>\n",
       "</div>"
      ],
      "text/plain": [
       "                             App_Id                 App_Name  \\\n",
       "0               com.hkbu.arc.apaper           A+ Paper Guide   \n",
       "1               com.dmitriev.abooks                  A-Books   \n",
       "2                    no.terp.abooks                  A-books   \n",
       "3          fr.antoinettefleur.Book1              A-F Book #1   \n",
       "4  com.imonstersoft.azdictionaryios  A-Z Synonyms Dictionary   \n",
       "\n",
       "                                        AppStore_Url Primary_Genre  \\\n",
       "0  https://apps.apple.com/us/app/a-paper-guide/id...     Education   \n",
       "1  https://apps.apple.com/us/app/a-books/id103157...          Book   \n",
       "2  https://apps.apple.com/us/app/a-books/id145702...          Book   \n",
       "3  https://apps.apple.com/us/app/a-f-book-1/id500...          Book   \n",
       "4  https://apps.apple.com/us/app/a-z-synonyms-dic...     Reference   \n",
       "\n",
       "  Content_Rating  Size_Bytes Required_IOS_Version              Released  \\\n",
       "0             4+  21993472.0                  8.0  2017-09-28T03:02:41Z   \n",
       "1             4+  13135872.0                 10.0  2015-08-31T19:31:32Z   \n",
       "2             4+  21943296.0                  9.0  2021-04-14T07:00:00Z   \n",
       "3             4+  81851392.0                  8.0  2012-02-10T03:40:07Z   \n",
       "4             4+  64692224.0                  9.0  2020-12-16T08:00:00Z   \n",
       "\n",
       "                Updated Version  ...  Currency   Free  DeveloperId  \\\n",
       "0  2018-12-21T21:30:36Z   1.1.2  ...       USD   True   1375410542   \n",
       "1  2019-07-23T20:31:09Z     1.3  ...       USD   True   1031572001   \n",
       "2  2021-05-30T21:08:54Z   1.3.1  ...       USD   True   1457024163   \n",
       "3  2019-10-29T12:40:37Z     1.2  ...       USD  False    439568839   \n",
       "4  2020-12-18T21:36:11Z   1.0.1  ...       USD   True    656731821   \n",
       "\n",
       "        Developer                                      Developer_Url  \\\n",
       "0        HKBU ARC  https://apps.apple.com/us/developer/hkbu-arc/i...   \n",
       "1  Roman Dmitriev  https://apps.apple.com/us/developer/roman-dmit...   \n",
       "2         Terp AS  https://apps.apple.com/us/developer/terp-as/id...   \n",
       "3   i-editeur.com  https://apps.apple.com/us/developer/i-editeur-...   \n",
       "4   Ngov chiheang  https://apps.apple.com/us/developer/ngov-chihe...   \n",
       "\n",
       "         Developer_Website Average_User_Rating  Reviews  \\\n",
       "0                      NaN                 0.0        0   \n",
       "1                      NaN                 5.0        1   \n",
       "2                      NaN                 0.0        0   \n",
       "3                      NaN                 0.0        0   \n",
       "4  http://imonstersoft.com                 0.0        0   \n",
       "\n",
       "   Current_Version_Score  Current_Version_Reviews  \n",
       "0                    0.0                        0  \n",
       "1                    5.0                        1  \n",
       "2                    0.0                        0  \n",
       "3                    0.0                        0  \n",
       "4                    0.0                        0  \n",
       "\n",
       "[5 rows x 21 columns]"
      ]
     },
     "execution_count": 107,
     "metadata": {},
     "output_type": "execute_result"
    }
   ],
   "source": [
    "df.head(5)"
   ]
  },
  {
   "cell_type": "code",
   "execution_count": 108,
   "metadata": {},
   "outputs": [
    {
     "name": "stdout",
     "output_type": "stream",
     "text": [
      "The dataset has 1230376 rows and 21 columns\n"
     ]
    }
   ],
   "source": [
    "# view the shape of the dataset: number of rows and columns\n",
    "\n",
    "# get the shape of the dataset\n",
    "shape = df.shape\n",
    "\n",
    "# format the shape as a string\n",
    "shape_str = 'The dataset has {} rows and {} columns'.format(shape[0], shape[1])\n",
    "\n",
    "# print the shape\n",
    "print(shape_str)\n",
    "\n",
    " "
   ]
  },
  {
   "cell_type": "markdown",
   "metadata": {},
   "source": [
    "##### The AppleApp Store data has 1230376 rows and 21 columns."
   ]
  },
  {
   "cell_type": "code",
   "execution_count": 109,
   "metadata": {},
   "outputs": [
    {
     "name": "stdout",
     "output_type": "stream",
     "text": [
      "Total number of apps in the dataset =  1230376\n"
     ]
    },
    {
     "data": {
      "text/html": [
       "<div>\n",
       "<style scoped>\n",
       "    .dataframe tbody tr th:only-of-type {\n",
       "        vertical-align: middle;\n",
       "    }\n",
       "\n",
       "    .dataframe tbody tr th {\n",
       "        vertical-align: top;\n",
       "    }\n",
       "\n",
       "    .dataframe thead th {\n",
       "        text-align: right;\n",
       "    }\n",
       "</style>\n",
       "<table border=\"1\" class=\"dataframe\">\n",
       "  <thead>\n",
       "    <tr style=\"text-align: right;\">\n",
       "      <th></th>\n",
       "      <th>App_Id</th>\n",
       "      <th>App_Name</th>\n",
       "      <th>AppStore_Url</th>\n",
       "      <th>Primary_Genre</th>\n",
       "      <th>Content_Rating</th>\n",
       "      <th>Size_Bytes</th>\n",
       "      <th>Required_IOS_Version</th>\n",
       "      <th>Released</th>\n",
       "      <th>Updated</th>\n",
       "      <th>Version</th>\n",
       "      <th>...</th>\n",
       "      <th>Currency</th>\n",
       "      <th>Free</th>\n",
       "      <th>DeveloperId</th>\n",
       "      <th>Developer</th>\n",
       "      <th>Developer_Url</th>\n",
       "      <th>Developer_Website</th>\n",
       "      <th>Average_User_Rating</th>\n",
       "      <th>Reviews</th>\n",
       "      <th>Current_Version_Score</th>\n",
       "      <th>Current_Version_Reviews</th>\n",
       "    </tr>\n",
       "  </thead>\n",
       "  <tbody>\n",
       "    <tr>\n",
       "      <th>743271</th>\n",
       "      <td>com.timothywelman.Sunny-the-Bunny</td>\n",
       "      <td>Sunny the Bunny</td>\n",
       "      <td>https://apps.apple.com/us/app/sunny-the-bunny/...</td>\n",
       "      <td>Stickers</td>\n",
       "      <td>4+</td>\n",
       "      <td>4051968.0</td>\n",
       "      <td>10.0</td>\n",
       "      <td>2017-04-10T21:33:40Z</td>\n",
       "      <td>2021-02-08T18:17:22Z</td>\n",
       "      <td>3.1</td>\n",
       "      <td>...</td>\n",
       "      <td>USD</td>\n",
       "      <td>True</td>\n",
       "      <td>1212063261</td>\n",
       "      <td>Timothy Welman</td>\n",
       "      <td>https://apps.apple.com/us/developer/timothy-we...</td>\n",
       "      <td>NaN</td>\n",
       "      <td>4.76119</td>\n",
       "      <td>268</td>\n",
       "      <td>4.76119</td>\n",
       "      <td>268</td>\n",
       "    </tr>\n",
       "    <tr>\n",
       "      <th>290719</th>\n",
       "      <td>tv.fisiongo.app</td>\n",
       "      <td>Fision GO</td>\n",
       "      <td>https://apps.apple.com/us/app/fision-go/id1406...</td>\n",
       "      <td>Entertainment</td>\n",
       "      <td>12+</td>\n",
       "      <td>60783616.0</td>\n",
       "      <td>11.0</td>\n",
       "      <td>2019-03-15T03:35:31Z</td>\n",
       "      <td>2021-09-21T07:26:32Z</td>\n",
       "      <td>3.2133.0</td>\n",
       "      <td>...</td>\n",
       "      <td>USD</td>\n",
       "      <td>True</td>\n",
       "      <td>1215470041</td>\n",
       "      <td>Hotwire Communications, Ltd</td>\n",
       "      <td>https://apps.apple.com/us/developer/hotwire-co...</td>\n",
       "      <td>http://fisiongo.com</td>\n",
       "      <td>2.00000</td>\n",
       "      <td>58</td>\n",
       "      <td>2.00000</td>\n",
       "      <td>58</td>\n",
       "    </tr>\n",
       "    <tr>\n",
       "      <th>411261</th>\n",
       "      <td>com.threewhitecrows.roadchat</td>\n",
       "      <td>Roadchat app</td>\n",
       "      <td>https://apps.apple.com/us/app/roadchat-app/id1...</td>\n",
       "      <td>Entertainment</td>\n",
       "      <td>17+</td>\n",
       "      <td>73523200.0</td>\n",
       "      <td>12.1</td>\n",
       "      <td>2021-09-01T07:00:00Z</td>\n",
       "      <td>2021-09-02T00:15:34Z</td>\n",
       "      <td>0.9</td>\n",
       "      <td>...</td>\n",
       "      <td>USD</td>\n",
       "      <td>True</td>\n",
       "      <td>1566362745</td>\n",
       "      <td>Three White Crows inc</td>\n",
       "      <td>https://apps.apple.com/us/developer/three-whit...</td>\n",
       "      <td>NaN</td>\n",
       "      <td>5.00000</td>\n",
       "      <td>1</td>\n",
       "      <td>5.00000</td>\n",
       "      <td>1</td>\n",
       "    </tr>\n",
       "    <tr>\n",
       "      <th>408080</th>\n",
       "      <td>com.brennanmoymedia.momma</td>\n",
       "      <td>Yo Momma</td>\n",
       "      <td>https://apps.apple.com/us/app/yo-momma/id34013...</td>\n",
       "      <td>Entertainment</td>\n",
       "      <td>17+</td>\n",
       "      <td>27092992.0</td>\n",
       "      <td>10.0</td>\n",
       "      <td>2009-11-20T21:55:59Z</td>\n",
       "      <td>2018-08-17T05:12:14Z</td>\n",
       "      <td>4.4</td>\n",
       "      <td>...</td>\n",
       "      <td>USD</td>\n",
       "      <td>True</td>\n",
       "      <td>319086978</td>\n",
       "      <td>BrennanMoyMedia</td>\n",
       "      <td>https://apps.apple.com/us/developer/brennanmoy...</td>\n",
       "      <td>http://www.brennanmoymedia.com</td>\n",
       "      <td>4.72414</td>\n",
       "      <td>29</td>\n",
       "      <td>4.72414</td>\n",
       "      <td>29</td>\n",
       "    </tr>\n",
       "    <tr>\n",
       "      <th>448269</th>\n",
       "      <td>com.bancodevalores.bancodevalores</td>\n",
       "      <td>Banco de Valores</td>\n",
       "      <td>https://apps.apple.com/us/app/banco-de-valores...</td>\n",
       "      <td>Finance</td>\n",
       "      <td>4+</td>\n",
       "      <td>36158464.0</td>\n",
       "      <td>14.1</td>\n",
       "      <td>2017-12-07T21:09:49Z</td>\n",
       "      <td>2021-05-11T13:55:44Z</td>\n",
       "      <td>1.40</td>\n",
       "      <td>...</td>\n",
       "      <td>USD</td>\n",
       "      <td>True</td>\n",
       "      <td>1254628485</td>\n",
       "      <td>Banco de Valores S.A.</td>\n",
       "      <td>https://apps.apple.com/us/developer/banco-de-v...</td>\n",
       "      <td>http://www.bancodevalores.com</td>\n",
       "      <td>0.00000</td>\n",
       "      <td>0</td>\n",
       "      <td>0.00000</td>\n",
       "      <td>0</td>\n",
       "    </tr>\n",
       "  </tbody>\n",
       "</table>\n",
       "<p>5 rows × 21 columns</p>\n",
       "</div>"
      ],
      "text/plain": [
       "                                   App_Id          App_Name  \\\n",
       "743271  com.timothywelman.Sunny-the-Bunny   Sunny the Bunny   \n",
       "290719                    tv.fisiongo.app         Fision GO   \n",
       "411261       com.threewhitecrows.roadchat      Roadchat app   \n",
       "408080          com.brennanmoymedia.momma          Yo Momma   \n",
       "448269  com.bancodevalores.bancodevalores  Banco de Valores   \n",
       "\n",
       "                                             AppStore_Url  Primary_Genre  \\\n",
       "743271  https://apps.apple.com/us/app/sunny-the-bunny/...       Stickers   \n",
       "290719  https://apps.apple.com/us/app/fision-go/id1406...  Entertainment   \n",
       "411261  https://apps.apple.com/us/app/roadchat-app/id1...  Entertainment   \n",
       "408080  https://apps.apple.com/us/app/yo-momma/id34013...  Entertainment   \n",
       "448269  https://apps.apple.com/us/app/banco-de-valores...        Finance   \n",
       "\n",
       "       Content_Rating  Size_Bytes Required_IOS_Version              Released  \\\n",
       "743271             4+   4051968.0                 10.0  2017-04-10T21:33:40Z   \n",
       "290719            12+  60783616.0                 11.0  2019-03-15T03:35:31Z   \n",
       "411261            17+  73523200.0                 12.1  2021-09-01T07:00:00Z   \n",
       "408080            17+  27092992.0                 10.0  2009-11-20T21:55:59Z   \n",
       "448269             4+  36158464.0                 14.1  2017-12-07T21:09:49Z   \n",
       "\n",
       "                     Updated   Version  ...  Currency  Free  DeveloperId  \\\n",
       "743271  2021-02-08T18:17:22Z       3.1  ...       USD  True   1212063261   \n",
       "290719  2021-09-21T07:26:32Z  3.2133.0  ...       USD  True   1215470041   \n",
       "411261  2021-09-02T00:15:34Z       0.9  ...       USD  True   1566362745   \n",
       "408080  2018-08-17T05:12:14Z       4.4  ...       USD  True    319086978   \n",
       "448269  2021-05-11T13:55:44Z      1.40  ...       USD  True   1254628485   \n",
       "\n",
       "                          Developer  \\\n",
       "743271               Timothy Welman   \n",
       "290719  Hotwire Communications, Ltd   \n",
       "411261        Three White Crows inc   \n",
       "408080              BrennanMoyMedia   \n",
       "448269        Banco de Valores S.A.   \n",
       "\n",
       "                                            Developer_Url  \\\n",
       "743271  https://apps.apple.com/us/developer/timothy-we...   \n",
       "290719  https://apps.apple.com/us/developer/hotwire-co...   \n",
       "411261  https://apps.apple.com/us/developer/three-whit...   \n",
       "408080  https://apps.apple.com/us/developer/brennanmoy...   \n",
       "448269  https://apps.apple.com/us/developer/banco-de-v...   \n",
       "\n",
       "                     Developer_Website Average_User_Rating  Reviews  \\\n",
       "743271                             NaN             4.76119      268   \n",
       "290719             http://fisiongo.com             2.00000       58   \n",
       "411261                             NaN             5.00000        1   \n",
       "408080  http://www.brennanmoymedia.com             4.72414       29   \n",
       "448269   http://www.bancodevalores.com             0.00000        0   \n",
       "\n",
       "        Current_Version_Score  Current_Version_Reviews  \n",
       "743271                4.76119                      268  \n",
       "290719                2.00000                       58  \n",
       "411261                5.00000                        1  \n",
       "408080                4.72414                       29  \n",
       "448269                0.00000                        0  \n",
       "\n",
       "[5 rows x 21 columns]"
      ]
     },
     "execution_count": 109,
     "metadata": {},
     "output_type": "execute_result"
    }
   ],
   "source": [
    "# How many apps are there in the dataset?\n",
    "\n",
    "# Drop duplicates\n",
    "apps = df.drop_duplicates()\n",
    "\n",
    "# Print the total number of apps\n",
    "print('Total number of apps in the dataset = ', apps.shape[0])\n",
    "\n",
    "# Print random sample of 5 entries\n",
    "apps.sample(n = 5)"
   ]
  },
  {
   "cell_type": "code",
   "execution_count": 110,
   "metadata": {},
   "outputs": [
    {
     "data": {
      "text/plain": [
       "Index(['App_Id', 'App_Name', 'AppStore_Url', 'Primary_Genre', 'Content_Rating',\n",
       "       'Size_Bytes', 'Required_IOS_Version', 'Released', 'Updated', 'Version',\n",
       "       'Price', 'Currency', 'Free', 'DeveloperId', 'Developer',\n",
       "       'Developer_Url', 'Developer_Website', 'Average_User_Rating', 'Reviews',\n",
       "       'Current_Version_Score', 'Current_Version_Reviews'],\n",
       "      dtype='object')"
      ]
     },
     "execution_count": 110,
     "metadata": {},
     "output_type": "execute_result"
    }
   ],
   "source": [
    "# Explanation of the columns in the given index:\n",
    "df.columns\n"
   ]
  },
  {
   "cell_type": "markdown",
   "metadata": {},
   "source": [
    "##### Explanation of columns name:\n",
    "- `App_Id`: The unique identifier of the app.\n",
    "- `App_Name`: The name of the app.\n",
    "- `AppStore_Url`: The URL of the app on the App Store.\n",
    "- `Primary_Genre`: The primary genre of the app.\n",
    "- `Content_Rating`: The content rating of the app, indicating its suitability for different age groups.\n",
    "- `Size_Bytes`: The size of the app in bytes.\n",
    "- `Required_IOS_Version`: The minimum version of iOS required to run the app.\n",
    "- `Released`: The date when the app was first released on the App Store.\n",
    "- `Updated`: The date when the app was last updated on the App Store.\n",
    "- `Version`: The current version of the app.\n",
    "- `Price`: The price of the app in the specified currency.\n",
    "- `Currency`: The currency in which the price of the app is listed.\n",
    "- `Free`: A boolean value indicating whether the app is free or not.\n",
    "- `DeveloperId`: The unique identifier of the developer of the app.\n",
    "- `Developer`: The name of the developer of the app.\n",
    "- `Developer_Url`: The URL of the developer on the App Store.\n",
    "- `Developer_Website`: The website of the developer.\n",
    "- `Average_User_Rating`: The average user rating of the app, based on all versions.\n",
    "- `Reviews`: The total number of user reviews for all versions of the app.\n",
    "- `Current_Version_Score`: The average user rating for the current version of the app.\n",
    "- `Current_Version_Reviews`: The total number of user reviews for the current version of the app.\n",
    "\n"
   ]
  },
  {
   "cell_type": "code",
   "execution_count": 111,
   "metadata": {},
   "outputs": [
    {
     "name": "stdout",
     "output_type": "stream",
     "text": [
      "<class 'pandas.core.frame.DataFrame'>\n",
      "RangeIndex: 1230376 entries, 0 to 1230375\n",
      "Data columns (total 21 columns):\n",
      " #   Column                   Non-Null Count    Dtype  \n",
      "---  ------                   --------------    -----  \n",
      " 0   App_Id                   1230376 non-null  object \n",
      " 1   App_Name                 1230375 non-null  object \n",
      " 2   AppStore_Url             1230376 non-null  object \n",
      " 3   Primary_Genre            1230376 non-null  object \n",
      " 4   Content_Rating           1230376 non-null  object \n",
      " 5   Size_Bytes               1230152 non-null  float64\n",
      " 6   Required_IOS_Version     1230376 non-null  object \n",
      " 7   Released                 1230373 non-null  object \n",
      " 8   Updated                  1230376 non-null  object \n",
      " 9   Version                  1230376 non-null  object \n",
      " 10  Price                    1229886 non-null  float64\n",
      " 11  Currency                 1230376 non-null  object \n",
      " 12  Free                     1230376 non-null  bool   \n",
      " 13  DeveloperId              1230376 non-null  int64  \n",
      " 14  Developer                1230376 non-null  object \n",
      " 15  Developer_Url            1229267 non-null  object \n",
      " 16  Developer_Website        586388 non-null   object \n",
      " 17  Average_User_Rating      1230376 non-null  float64\n",
      " 18  Reviews                  1230376 non-null  int64  \n",
      " 19  Current_Version_Score    1230376 non-null  float64\n",
      " 20  Current_Version_Reviews  1230376 non-null  int64  \n",
      "dtypes: bool(1), float64(4), int64(3), object(13)\n",
      "memory usage: 188.9+ MB\n"
     ]
    }
   ],
   "source": [
    "# view at the info of the dataset\n",
    "df.info()"
   ]
  },
  {
   "cell_type": "markdown",
   "metadata": {},
   "source": [
    "##### *Observation # 1* :\n",
    "- The dataset is a Pandas DataFrame with 1230376 rows and 21 columns.\n",
    "- Each column represents a variable with data types including object, float64, int64, and bool.\n",
    "- There are some missing values in the dataset, as indicated by the number of non-null values in each column.\n",
    "- For example, the `App_Name` column has one missing value, while the `Developer_Website` column has many missing values.\n",
    "- The DataFrame contains information about various attributes of mobile apps, such as their ID, name, URL, genre, content rating, size, required iOS version, release and update dates, version, price, currency, developer information, user ratings and reviews.\n"
   ]
  },
  {
   "cell_type": "markdown",
   "metadata": {},
   "source": [
    "##### 4.3- *Descriptive Statistics* \n",
    "##### To quickly, overview the data and  to identify the patterns, trends, and outliers.The describe method in Pandas generates summary statistics for numerical columns in a DataFrame. It provides key features of the dataset and summarise numerical columns in a DataFrame."
   ]
  },
  {
   "cell_type": "code",
   "execution_count": 112,
   "metadata": {},
   "outputs": [
    {
     "data": {
      "text/html": [
       "<div>\n",
       "<style scoped>\n",
       "    .dataframe tbody tr th:only-of-type {\n",
       "        vertical-align: middle;\n",
       "    }\n",
       "\n",
       "    .dataframe tbody tr th {\n",
       "        vertical-align: top;\n",
       "    }\n",
       "\n",
       "    .dataframe thead th {\n",
       "        text-align: right;\n",
       "    }\n",
       "</style>\n",
       "<table border=\"1\" class=\"dataframe\">\n",
       "  <thead>\n",
       "    <tr style=\"text-align: right;\">\n",
       "      <th></th>\n",
       "      <th>Size_Bytes</th>\n",
       "      <th>Price</th>\n",
       "      <th>DeveloperId</th>\n",
       "      <th>Average_User_Rating</th>\n",
       "      <th>Reviews</th>\n",
       "      <th>Current_Version_Score</th>\n",
       "      <th>Current_Version_Reviews</th>\n",
       "    </tr>\n",
       "  </thead>\n",
       "  <tbody>\n",
       "    <tr>\n",
       "      <th>count</th>\n",
       "      <td>1.230152e+06</td>\n",
       "      <td>1.229886e+06</td>\n",
       "      <td>1.230376e+06</td>\n",
       "      <td>1.230376e+06</td>\n",
       "      <td>1.230376e+06</td>\n",
       "      <td>1.230376e+06</td>\n",
       "      <td>1.230376e+06</td>\n",
       "    </tr>\n",
       "    <tr>\n",
       "      <th>mean</th>\n",
       "      <td>7.510857e+07</td>\n",
       "      <td>5.041264e-01</td>\n",
       "      <td>1.092869e+09</td>\n",
       "      <td>1.788387e+00</td>\n",
       "      <td>8.259478e+02</td>\n",
       "      <td>1.788387e+00</td>\n",
       "      <td>8.259478e+02</td>\n",
       "    </tr>\n",
       "    <tr>\n",
       "      <th>std</th>\n",
       "      <td>2.318726e+08</td>\n",
       "      <td>6.869674e+00</td>\n",
       "      <td>4.090897e+08</td>\n",
       "      <td>2.154105e+00</td>\n",
       "      <td>5.016051e+04</td>\n",
       "      <td>2.154105e+00</td>\n",
       "      <td>5.016051e+04</td>\n",
       "    </tr>\n",
       "    <tr>\n",
       "      <th>min</th>\n",
       "      <td>2.762800e+04</td>\n",
       "      <td>0.000000e+00</td>\n",
       "      <td>2.816565e+08</td>\n",
       "      <td>0.000000e+00</td>\n",
       "      <td>0.000000e+00</td>\n",
       "      <td>0.000000e+00</td>\n",
       "      <td>0.000000e+00</td>\n",
       "    </tr>\n",
       "    <tr>\n",
       "      <th>25%</th>\n",
       "      <td>2.041344e+07</td>\n",
       "      <td>0.000000e+00</td>\n",
       "      <td>7.381109e+08</td>\n",
       "      <td>0.000000e+00</td>\n",
       "      <td>0.000000e+00</td>\n",
       "      <td>0.000000e+00</td>\n",
       "      <td>0.000000e+00</td>\n",
       "    </tr>\n",
       "    <tr>\n",
       "      <th>50%</th>\n",
       "      <td>4.333158e+07</td>\n",
       "      <td>0.000000e+00</td>\n",
       "      <td>1.179711e+09</td>\n",
       "      <td>0.000000e+00</td>\n",
       "      <td>0.000000e+00</td>\n",
       "      <td>0.000000e+00</td>\n",
       "      <td>0.000000e+00</td>\n",
       "    </tr>\n",
       "    <tr>\n",
       "      <th>75%</th>\n",
       "      <td>8.365466e+07</td>\n",
       "      <td>0.000000e+00</td>\n",
       "      <td>1.471960e+09</td>\n",
       "      <td>4.333330e+00</td>\n",
       "      <td>3.000000e+00</td>\n",
       "      <td>4.333330e+00</td>\n",
       "      <td>3.000000e+00</td>\n",
       "    </tr>\n",
       "    <tr>\n",
       "      <th>max</th>\n",
       "      <td>7.677945e+10</td>\n",
       "      <td>9.999900e+02</td>\n",
       "      <td>1.590233e+09</td>\n",
       "      <td>5.000000e+00</td>\n",
       "      <td>2.268533e+07</td>\n",
       "      <td>5.000000e+00</td>\n",
       "      <td>2.268533e+07</td>\n",
       "    </tr>\n",
       "  </tbody>\n",
       "</table>\n",
       "</div>"
      ],
      "text/plain": [
       "         Size_Bytes         Price   DeveloperId  Average_User_Rating  \\\n",
       "count  1.230152e+06  1.229886e+06  1.230376e+06         1.230376e+06   \n",
       "mean   7.510857e+07  5.041264e-01  1.092869e+09         1.788387e+00   \n",
       "std    2.318726e+08  6.869674e+00  4.090897e+08         2.154105e+00   \n",
       "min    2.762800e+04  0.000000e+00  2.816565e+08         0.000000e+00   \n",
       "25%    2.041344e+07  0.000000e+00  7.381109e+08         0.000000e+00   \n",
       "50%    4.333158e+07  0.000000e+00  1.179711e+09         0.000000e+00   \n",
       "75%    8.365466e+07  0.000000e+00  1.471960e+09         4.333330e+00   \n",
       "max    7.677945e+10  9.999900e+02  1.590233e+09         5.000000e+00   \n",
       "\n",
       "            Reviews  Current_Version_Score  Current_Version_Reviews  \n",
       "count  1.230376e+06           1.230376e+06             1.230376e+06  \n",
       "mean   8.259478e+02           1.788387e+00             8.259478e+02  \n",
       "std    5.016051e+04           2.154105e+00             5.016051e+04  \n",
       "min    0.000000e+00           0.000000e+00             0.000000e+00  \n",
       "25%    0.000000e+00           0.000000e+00             0.000000e+00  \n",
       "50%    0.000000e+00           0.000000e+00             0.000000e+00  \n",
       "75%    3.000000e+00           4.333330e+00             3.000000e+00  \n",
       "max    2.268533e+07           5.000000e+00             2.268533e+07  "
      ]
     },
     "execution_count": 112,
     "metadata": {},
     "output_type": "execute_result"
    }
   ],
   "source": [
    "# here is the code for summary statistics of the dataset\n",
    "df.describe()"
   ]
  },
  {
   "cell_type": "markdown",
   "metadata": {},
   "source": [
    "#### *Observation # 2*:\n",
    "#####    There are 6 numeric columns in the dataset because Developer ID is unique value."
   ]
  },
  {
   "cell_type": "markdown",
   "metadata": {},
   "source": [
    "### 4.4- *Data Wrangling*"
   ]
  },
  {
   "cell_type": "code",
   "execution_count": 113,
   "metadata": {},
   "outputs": [
    {
     "data": {
      "text/plain": [
       "Developer_Website          643988\n",
       "Developer_Url                1109\n",
       "Price                         490\n",
       "Size_Bytes                    224\n",
       "Released                        3\n",
       "App_Name                        1\n",
       "Free                            0\n",
       "Current_Version_Score           0\n",
       "Reviews                         0\n",
       "Average_User_Rating             0\n",
       "Developer                       0\n",
       "DeveloperId                     0\n",
       "App_Id                          0\n",
       "Currency                        0\n",
       "Version                         0\n",
       "Updated                         0\n",
       "Required_IOS_Version            0\n",
       "Content_Rating                  0\n",
       "Primary_Genre                   0\n",
       "AppStore_Url                    0\n",
       "Current_Version_Reviews         0\n",
       "dtype: int64"
      ]
     },
     "execution_count": 113,
     "metadata": {},
     "output_type": "execute_result"
    }
   ],
   "source": [
    "# # Handling Missing Values of the dataset\n",
    "df.isnull().sum().sort_values(ascending=False)"
   ]
  },
  {
   "cell_type": "markdown",
   "metadata": {},
   "source": [
    "#### 5.0- *Exploratory Analysis and Data Visualization*"
   ]
  },
  {
   "cell_type": "code",
   "execution_count": 140,
   "metadata": {},
   "outputs": [
    {
     "data": {
      "text/plain": [
       "Text(0.5, 1.0, 'Missing Values in the Dataset')"
      ]
     },
     "execution_count": 140,
     "metadata": {},
     "output_type": "execute_result"
    },
    {
     "data": {
      "image/png": "[encoded data removed]",
      "text/plain": [
       "<Figure size 1500x700 with 1 Axes>"
      ]
     },
     "metadata": {},
     "output_type": "display_data"
    }
   ],
   "source": [
    "# Visualizing the null Values\n",
    "plt.rcParams['figure.figsize'] = (15, 7)\n",
    "sns.heatmap(df.isnull(), yticklabels = False, cbar = False, cmap = 'viridis')\n",
    "plt.title('Missing Values in the Dataset', fontsize = 20)"
   ]
  },
  {
   "cell_type": "markdown",
   "metadata": {},
   "source": [
    "##### Figure-1 shows the visual on the missing values of the dataset."
   ]
  },
  {
   "cell_type": "markdown",
   "metadata": {},
   "source": [
    "##### 5.1 :To create a graphical representation of missing values, we will first convert the missing values into percentages and then use a suitable charting technique to plot them. "
   ]
  },
  {
   "cell_type": "code",
   "execution_count": null,
   "metadata": {},
   "outputs": [
    {
     "name": "stdout",
     "output_type": "stream",
     "text": [
      "Developer_Website          52.340748\n",
      "Developer_Url               0.090135\n",
      "Price                       0.039825\n",
      "Size_Bytes                  0.018206\n",
      "Released                    0.000244\n",
      "App_Name                    0.000081\n",
      "Free                        0.000000\n",
      "Current_Version_Score       0.000000\n",
      "Reviews                     0.000000\n",
      "Average_User_Rating         0.000000\n",
      "Developer                   0.000000\n",
      "DeveloperId                 0.000000\n",
      "App_Id                      0.000000\n",
      "Currency                    0.000000\n",
      "Version                     0.000000\n",
      "Updated                     0.000000\n",
      "Required_IOS_Version        0.000000\n",
      "Content_Rating              0.000000\n",
      "Primary_Genre               0.000000\n",
      "AppStore_Url                0.000000\n",
      "Current_Version_Reviews     0.000000\n",
      "dtype: float64\n"
     ]
    }
   ],
   "source": [
    "# here is the code for converting the missing values in percentage of null values in each column\n",
    "# and then plotting the same in a bar graph\n",
    "\n",
    "# convert missing values to percentage\n",
    "\n",
    "\n",
    "# Calculate the percentage of null values in each column\n",
    "null_percentage = df.isnull().sum().sort_values(ascending=False)/len(df)*100\n",
    "\n",
    "# Print the percentage of null values in each column\n",
    "print(null_percentage)\n",
    "\n",
    "\n",
    "\n"
   ]
  },
  {
   "cell_type": "code",
   "execution_count": null,
   "metadata": {},
   "outputs": [
    {
     "data": {
      "image/png": "[encoded data removed]",
      "text/plain": [
       "<Figure size 1000x500 with 1 Axes>"
      ]
     },
     "metadata": {},
     "output_type": "display_data"
    }
   ],
   "source": [
    "# visualize the null_percentage of each column\n",
    "null_percentage = null_percentage[null_percentage > 0]\n",
    "plt.rcParams['figure.figsize'] = (10, 5)\n",
    "null_percentage.plot(kind='bar', title='percentage of null values', legend=False)\n",
    "plt.show() # added to show the plot\n"
   ]
  },
  {
   "cell_type": "markdown",
   "metadata": {},
   "source": [
    "> Figure-2: This indicates that the `Developer_Website` column has the most missing values, making it difficult to see the other values. "
   ]
  },
  {
   "cell_type": "markdown",
   "metadata": {},
   "source": [
    "### *Observation 3*: *Handling with the missing values*\n",
    "\n",
    "- The \"Developer_Website\" column has the highest percentage of null values.\n",
    "- Since the developer website is a unique value, it may not be appropriate to impute the null values with any other     value, as this could affect the accuracy of any analysis or modeling.\n",
    "- One solution is to try to obtain the missing data by contacting the app developer or using other external data sources.\n",
    "- Alternatively, you may need to accept the limitations of the data and drop the \"Developer_Website\" column. "
   ]
  },
  {
   "cell_type": "code",
   "execution_count": null,
   "metadata": {},
   "outputs": [
    {
     "name": "stdout",
     "output_type": "stream",
     "text": [
      "<class 'pandas.core.frame.DataFrame'>\n",
      "RangeIndex: 1230376 entries, 0 to 1230375\n",
      "Data columns (total 20 columns):\n",
      " #   Column                   Non-Null Count    Dtype  \n",
      "---  ------                   --------------    -----  \n",
      " 0   App_Id                   1230376 non-null  object \n",
      " 1   App_Name                 1230375 non-null  object \n",
      " 2   AppStore_Url             1230376 non-null  object \n",
      " 3   Primary_Genre            1230376 non-null  object \n",
      " 4   Content_Rating           1230376 non-null  object \n",
      " 5   Size_Bytes               1230152 non-null  float64\n",
      " 6   Required_IOS_Version     1230376 non-null  object \n",
      " 7   Released                 1230373 non-null  object \n",
      " 8   Updated                  1230376 non-null  object \n",
      " 9   Version                  1230376 non-null  object \n",
      " 10  Price                    1229886 non-null  float64\n",
      " 11  Currency                 1230376 non-null  object \n",
      " 12  Free                     1230376 non-null  bool   \n",
      " 13  DeveloperId              1230376 non-null  int64  \n",
      " 14  Developer                1230376 non-null  object \n",
      " 15  Developer_Url            1229267 non-null  object \n",
      " 16  Average_User_Rating      1230376 non-null  float64\n",
      " 17  Reviews                  1230376 non-null  int64  \n",
      " 18  Current_Version_Score    1230376 non-null  float64\n",
      " 19  Current_Version_Reviews  1230376 non-null  int64  \n",
      "dtypes: bool(1), float64(4), int64(3), object(12)\n",
      "memory usage: 179.5+ MB\n"
     ]
    }
   ],
   "source": [
    "# Due to less relevancy of the data, we will not be using this column \"Developer Website\" for our analysis.Therefore, we have made the decision to drop this column.\n",
    "df.drop(columns=['Developer_Website'], inplace=True)\n",
    "df.info()"
   ]
  },
  {
   "cell_type": "code",
   "execution_count": null,
   "metadata": {},
   "outputs": [
    {
     "data": {
      "text/plain": [
       "App_Id                        0\n",
       "App_Name                      1\n",
       "AppStore_Url                  0\n",
       "Primary_Genre                 0\n",
       "Content_Rating                0\n",
       "Size_Bytes                  224\n",
       "Required_IOS_Version          0\n",
       "Released                      3\n",
       "Updated                       0\n",
       "Version                       0\n",
       "Price                       490\n",
       "Currency                      0\n",
       "Free                          0\n",
       "DeveloperId                   0\n",
       "Developer                     0\n",
       "Developer_Url              1109\n",
       "Average_User_Rating           0\n",
       "Reviews                       0\n",
       "Current_Version_Score         0\n",
       "Current_Version_Reviews       0\n",
       "dtype: int64"
      ]
     },
     "execution_count": 74,
     "metadata": {},
     "output_type": "execute_result"
    }
   ],
   "source": [
    "df.isnull().sum()"
   ]
  },
  {
   "cell_type": "markdown",
   "metadata": {},
   "source": [
    "##### Observation 4:\n",
    "Price, Size_Bytes and Developer_Url contain missing values, these are the important columns so it is good to fill the null values."
   ]
  },
  {
   "cell_type": "code",
   "execution_count": null,
   "metadata": {},
   "outputs": [
    {
     "data": {
      "text/plain": [
       "Developer_Url              1109\n",
       "Released                      3\n",
       "App_Name                      1\n",
       "App_Id                        0\n",
       "Currency                      0\n",
       "Current_Version_Score         0\n",
       "Reviews                       0\n",
       "Average_User_Rating           0\n",
       "Developer                     0\n",
       "DeveloperId                   0\n",
       "Free                          0\n",
       "Price                         0\n",
       "Version                       0\n",
       "Updated                       0\n",
       "Required_IOS_Version          0\n",
       "Size_Bytes                    0\n",
       "Content_Rating                0\n",
       "Primary_Genre                 0\n",
       "AppStore_Url                  0\n",
       "Current_Version_Reviews       0\n",
       "dtype: int64"
      ]
     },
     "execution_count": 75,
     "metadata": {},
     "output_type": "execute_result"
    }
   ],
   "source": [
    "# filling mean value of Price column in the null places of that column.\n",
    "df['Price'].fillna(df['Price'].mean(), inplace=True)\n",
    "df['Size_Bytes'].fillna(df['Size_Bytes'].mean(), inplace=True)\n",
    "\n",
    "# view the null values in the dataset\n",
    "df.isnull().sum().sort_values(ascending=False)"
   ]
  },
  {
   "cell_type": "markdown",
   "metadata": {},
   "source": [
    "##### 5.2- View the columns having null values."
   ]
  },
  {
   "cell_type": "code",
   "execution_count": null,
   "metadata": {},
   "outputs": [
    {
     "data": {
      "text/html": [
       "<div>\n",
       "<style scoped>\n",
       "    .dataframe tbody tr th:only-of-type {\n",
       "        vertical-align: middle;\n",
       "    }\n",
       "\n",
       "    .dataframe tbody tr th {\n",
       "        vertical-align: top;\n",
       "    }\n",
       "\n",
       "    .dataframe thead th {\n",
       "        text-align: right;\n",
       "    }\n",
       "</style>\n",
       "<table border=\"1\" class=\"dataframe\">\n",
       "  <thead>\n",
       "    <tr style=\"text-align: right;\">\n",
       "      <th></th>\n",
       "      <th>App_Id</th>\n",
       "      <th>App_Name</th>\n",
       "      <th>AppStore_Url</th>\n",
       "      <th>Primary_Genre</th>\n",
       "      <th>Content_Rating</th>\n",
       "      <th>Size_Bytes</th>\n",
       "      <th>Required_IOS_Version</th>\n",
       "      <th>Released</th>\n",
       "      <th>Updated</th>\n",
       "      <th>Version</th>\n",
       "      <th>Price</th>\n",
       "      <th>Currency</th>\n",
       "      <th>Free</th>\n",
       "      <th>DeveloperId</th>\n",
       "      <th>Developer</th>\n",
       "      <th>Developer_Url</th>\n",
       "      <th>Average_User_Rating</th>\n",
       "      <th>Reviews</th>\n",
       "      <th>Current_Version_Score</th>\n",
       "      <th>Current_Version_Reviews</th>\n",
       "    </tr>\n",
       "  </thead>\n",
       "  <tbody>\n",
       "    <tr>\n",
       "      <th>264853</th>\n",
       "      <td>com.ironhidegames.frontiers.universal.premium</td>\n",
       "      <td>Kingdom Rush Frontiers TD+</td>\n",
       "      <td>https://apps.apple.com/us/app/kingdom-rush-fro...</td>\n",
       "      <td>Games</td>\n",
       "      <td>12+</td>\n",
       "      <td>7.510857e+07</td>\n",
       "      <td>13.0</td>\n",
       "      <td>NaN</td>\n",
       "      <td>2021-11-12T08:00:00Z</td>\n",
       "      <td>5.4.15</td>\n",
       "      <td>0.504126</td>\n",
       "      <td>USD</td>\n",
       "      <td>False</td>\n",
       "      <td>1542047256</td>\n",
       "      <td>Ironhide Irl</td>\n",
       "      <td>https://apps.apple.com/us/developer/ironhide-i...</td>\n",
       "      <td>0.0</td>\n",
       "      <td>0</td>\n",
       "      <td>0.0</td>\n",
       "      <td>0</td>\n",
       "    </tr>\n",
       "    <tr>\n",
       "      <th>836858</th>\n",
       "      <td>com.redgamesco.transformers</td>\n",
       "      <td>Transformers: Tactical Arena</td>\n",
       "      <td>https://apps.apple.com/us/app/transformers-tac...</td>\n",
       "      <td>Games</td>\n",
       "      <td>9+</td>\n",
       "      <td>7.510857e+07</td>\n",
       "      <td>13.5.0</td>\n",
       "      <td>NaN</td>\n",
       "      <td>2021-11-05T07:00:00Z</td>\n",
       "      <td>0.1</td>\n",
       "      <td>0.504126</td>\n",
       "      <td>USD</td>\n",
       "      <td>False</td>\n",
       "      <td>1456007507</td>\n",
       "      <td>RED GAMES CO, LLC</td>\n",
       "      <td>https://apps.apple.com/us/developer/red-games-...</td>\n",
       "      <td>0.0</td>\n",
       "      <td>0</td>\n",
       "      <td>0.0</td>\n",
       "      <td>0</td>\n",
       "    </tr>\n",
       "    <tr>\n",
       "      <th>919513</th>\n",
       "      <td>com.crayolallc.crayola-create-and-play-plus</td>\n",
       "      <td>Crayola Create and Play+</td>\n",
       "      <td>https://apps.apple.com/us/app/crayola-create-a...</td>\n",
       "      <td>Games</td>\n",
       "      <td>4+</td>\n",
       "      <td>7.510857e+07</td>\n",
       "      <td>13</td>\n",
       "      <td>NaN</td>\n",
       "      <td>2021-10-29T07:00:00Z</td>\n",
       "      <td>1.52</td>\n",
       "      <td>0.504126</td>\n",
       "      <td>USD</td>\n",
       "      <td>False</td>\n",
       "      <td>1456007507</td>\n",
       "      <td>RED GAMES CO, LLC</td>\n",
       "      <td>https://apps.apple.com/us/developer/red-games-...</td>\n",
       "      <td>0.0</td>\n",
       "      <td>0</td>\n",
       "      <td>0.0</td>\n",
       "      <td>0</td>\n",
       "    </tr>\n",
       "  </tbody>\n",
       "</table>\n",
       "</div>"
      ],
      "text/plain": [
       "                                               App_Id  \\\n",
       "264853  com.ironhidegames.frontiers.universal.premium   \n",
       "836858                    com.redgamesco.transformers   \n",
       "919513    com.crayolallc.crayola-create-and-play-plus   \n",
       "\n",
       "                            App_Name  \\\n",
       "264853    Kingdom Rush Frontiers TD+   \n",
       "836858  Transformers: Tactical Arena   \n",
       "919513      Crayola Create and Play+   \n",
       "\n",
       "                                             AppStore_Url Primary_Genre  \\\n",
       "264853  https://apps.apple.com/us/app/kingdom-rush-fro...         Games   \n",
       "836858  https://apps.apple.com/us/app/transformers-tac...         Games   \n",
       "919513  https://apps.apple.com/us/app/crayola-create-a...         Games   \n",
       "\n",
       "       Content_Rating    Size_Bytes Required_IOS_Version Released  \\\n",
       "264853            12+  7.510857e+07                 13.0      NaN   \n",
       "836858             9+  7.510857e+07               13.5.0      NaN   \n",
       "919513             4+  7.510857e+07                   13      NaN   \n",
       "\n",
       "                     Updated Version     Price Currency   Free  DeveloperId  \\\n",
       "264853  2021-11-12T08:00:00Z  5.4.15  0.504126      USD  False   1542047256   \n",
       "836858  2021-11-05T07:00:00Z     0.1  0.504126      USD  False   1456007507   \n",
       "919513  2021-10-29T07:00:00Z    1.52  0.504126      USD  False   1456007507   \n",
       "\n",
       "                Developer                                      Developer_Url  \\\n",
       "264853       Ironhide Irl  https://apps.apple.com/us/developer/ironhide-i...   \n",
       "836858  RED GAMES CO, LLC  https://apps.apple.com/us/developer/red-games-...   \n",
       "919513  RED GAMES CO, LLC  https://apps.apple.com/us/developer/red-games-...   \n",
       "\n",
       "        Average_User_Rating  Reviews  Current_Version_Score  \\\n",
       "264853                  0.0        0                    0.0   \n",
       "836858                  0.0        0                    0.0   \n",
       "919513                  0.0        0                    0.0   \n",
       "\n",
       "        Current_Version_Reviews  \n",
       "264853                        0  \n",
       "836858                        0  \n",
       "919513                        0  "
      ]
     },
     "execution_count": 76,
     "metadata": {},
     "output_type": "execute_result"
    }
   ],
   "source": [
    "df[df['Released'].isnull()].head()\n"
   ]
  },
  {
   "cell_type": "code",
   "execution_count": null,
   "metadata": {},
   "outputs": [
    {
     "data": {
      "text/html": [
       "<div>\n",
       "<style scoped>\n",
       "    .dataframe tbody tr th:only-of-type {\n",
       "        vertical-align: middle;\n",
       "    }\n",
       "\n",
       "    .dataframe tbody tr th {\n",
       "        vertical-align: top;\n",
       "    }\n",
       "\n",
       "    .dataframe thead th {\n",
       "        text-align: right;\n",
       "    }\n",
       "</style>\n",
       "<table border=\"1\" class=\"dataframe\">\n",
       "  <thead>\n",
       "    <tr style=\"text-align: right;\">\n",
       "      <th></th>\n",
       "      <th>App_Id</th>\n",
       "      <th>App_Name</th>\n",
       "      <th>AppStore_Url</th>\n",
       "      <th>Primary_Genre</th>\n",
       "      <th>Content_Rating</th>\n",
       "      <th>Size_Bytes</th>\n",
       "      <th>Required_IOS_Version</th>\n",
       "      <th>Released</th>\n",
       "      <th>Updated</th>\n",
       "      <th>Version</th>\n",
       "      <th>Price</th>\n",
       "      <th>Currency</th>\n",
       "      <th>Free</th>\n",
       "      <th>DeveloperId</th>\n",
       "      <th>Developer</th>\n",
       "      <th>Developer_Url</th>\n",
       "      <th>Average_User_Rating</th>\n",
       "      <th>Reviews</th>\n",
       "      <th>Current_Version_Score</th>\n",
       "      <th>Current_Version_Reviews</th>\n",
       "    </tr>\n",
       "  </thead>\n",
       "  <tbody>\n",
       "    <tr>\n",
       "      <th>2382</th>\n",
       "      <td>com.TroopAdmin2</td>\n",
       "      <td>C&amp;S Troop Admin</td>\n",
       "      <td>https://apps.apple.com/us/app/c-s-troop-admin/...</td>\n",
       "      <td>Business</td>\n",
       "      <td>4+</td>\n",
       "      <td>87355392.0</td>\n",
       "      <td>10.0</td>\n",
       "      <td>2021-06-04T07:00:00Z</td>\n",
       "      <td>2021-06-05T03:40:31Z</td>\n",
       "      <td>1.0</td>\n",
       "      <td>0.0</td>\n",
       "      <td>USD</td>\n",
       "      <td>True</td>\n",
       "      <td>1569780624</td>\n",
       "      <td>Hunter Biscuit &amp; Wolf Limited</td>\n",
       "      <td>NaN</td>\n",
       "      <td>0.00000</td>\n",
       "      <td>0</td>\n",
       "      <td>0.00000</td>\n",
       "      <td>0</td>\n",
       "    </tr>\n",
       "    <tr>\n",
       "      <th>2827</th>\n",
       "      <td>com.dhrubajyoti.bangla</td>\n",
       "      <td>Bangla Rhymes</td>\n",
       "      <td>https://apps.apple.com/us/app/bangla-rhymes/id...</td>\n",
       "      <td>Education</td>\n",
       "      <td>4+</td>\n",
       "      <td>56445952.0</td>\n",
       "      <td>9.1</td>\n",
       "      <td>2019-03-23T18:27:49Z</td>\n",
       "      <td>2019-03-23T18:27:49Z</td>\n",
       "      <td>1.0.1</td>\n",
       "      <td>0.0</td>\n",
       "      <td>USD</td>\n",
       "      <td>True</td>\n",
       "      <td>1452131894</td>\n",
       "      <td>Dhrubajyoti Dey</td>\n",
       "      <td>NaN</td>\n",
       "      <td>5.00000</td>\n",
       "      <td>5</td>\n",
       "      <td>5.00000</td>\n",
       "      <td>5</td>\n",
       "    </tr>\n",
       "    <tr>\n",
       "      <th>3498</th>\n",
       "      <td>com.f1rstmotors.f1rstmotors</td>\n",
       "      <td>F1RST MOTORS</td>\n",
       "      <td>https://apps.apple.com/us/app/f1rst-motors/id1...</td>\n",
       "      <td>Business</td>\n",
       "      <td>4+</td>\n",
       "      <td>77185024.0</td>\n",
       "      <td>13.0</td>\n",
       "      <td>2021-10-06T07:00:00Z</td>\n",
       "      <td>2021-10-06T12:15:27Z</td>\n",
       "      <td>1.0</td>\n",
       "      <td>0.0</td>\n",
       "      <td>USD</td>\n",
       "      <td>True</td>\n",
       "      <td>1588267041</td>\n",
       "      <td>F1RST MOTORS LLC</td>\n",
       "      <td>NaN</td>\n",
       "      <td>0.00000</td>\n",
       "      <td>0</td>\n",
       "      <td>0.00000</td>\n",
       "      <td>0</td>\n",
       "    </tr>\n",
       "    <tr>\n",
       "      <th>5820</th>\n",
       "      <td>tr.com.okuvaryum.mobil</td>\n",
       "      <td>Okuvaryum</td>\n",
       "      <td>https://apps.apple.com/us/app/okuvaryum/id1493...</td>\n",
       "      <td>Education</td>\n",
       "      <td>4+</td>\n",
       "      <td>79869952.0</td>\n",
       "      <td>11.0</td>\n",
       "      <td>2020-01-17T08:00:00Z</td>\n",
       "      <td>2021-05-29T15:20:58Z</td>\n",
       "      <td>1.0.21</td>\n",
       "      <td>0.0</td>\n",
       "      <td>USD</td>\n",
       "      <td>True</td>\n",
       "      <td>1589915483</td>\n",
       "      <td>OKUVARYUM EGITIM VE TEKNOLOJI ANONIM SIRKETI</td>\n",
       "      <td>NaN</td>\n",
       "      <td>4.44444</td>\n",
       "      <td>9</td>\n",
       "      <td>4.44444</td>\n",
       "      <td>9</td>\n",
       "    </tr>\n",
       "    <tr>\n",
       "      <th>5821</th>\n",
       "      <td>tr.com.okuvaryum.okul</td>\n",
       "      <td>Okuvaryum Okul</td>\n",
       "      <td>https://apps.apple.com/us/app/okuvaryum-okul/i...</td>\n",
       "      <td>Education</td>\n",
       "      <td>4+</td>\n",
       "      <td>39526400.0</td>\n",
       "      <td>11.0</td>\n",
       "      <td>2021-08-25T07:00:00Z</td>\n",
       "      <td>2021-10-08T17:07:59Z</td>\n",
       "      <td>1.0.2</td>\n",
       "      <td>0.0</td>\n",
       "      <td>USD</td>\n",
       "      <td>True</td>\n",
       "      <td>1589915483</td>\n",
       "      <td>OKUVARYUM EGITIM VE TEKNOLOJI ANONIM SIRKETI</td>\n",
       "      <td>NaN</td>\n",
       "      <td>0.00000</td>\n",
       "      <td>0</td>\n",
       "      <td>0.00000</td>\n",
       "      <td>0</td>\n",
       "    </tr>\n",
       "  </tbody>\n",
       "</table>\n",
       "</div>"
      ],
      "text/plain": [
       "                           App_Id         App_Name  \\\n",
       "2382              com.TroopAdmin2  C&S Troop Admin   \n",
       "2827       com.dhrubajyoti.bangla    Bangla Rhymes   \n",
       "3498  com.f1rstmotors.f1rstmotors     F1RST MOTORS   \n",
       "5820       tr.com.okuvaryum.mobil        Okuvaryum   \n",
       "5821        tr.com.okuvaryum.okul   Okuvaryum Okul   \n",
       "\n",
       "                                           AppStore_Url Primary_Genre  \\\n",
       "2382  https://apps.apple.com/us/app/c-s-troop-admin/...      Business   \n",
       "2827  https://apps.apple.com/us/app/bangla-rhymes/id...     Education   \n",
       "3498  https://apps.apple.com/us/app/f1rst-motors/id1...      Business   \n",
       "5820  https://apps.apple.com/us/app/okuvaryum/id1493...     Education   \n",
       "5821  https://apps.apple.com/us/app/okuvaryum-okul/i...     Education   \n",
       "\n",
       "     Content_Rating  Size_Bytes Required_IOS_Version              Released  \\\n",
       "2382             4+  87355392.0                 10.0  2021-06-04T07:00:00Z   \n",
       "2827             4+  56445952.0                  9.1  2019-03-23T18:27:49Z   \n",
       "3498             4+  77185024.0                 13.0  2021-10-06T07:00:00Z   \n",
       "5820             4+  79869952.0                 11.0  2020-01-17T08:00:00Z   \n",
       "5821             4+  39526400.0                 11.0  2021-08-25T07:00:00Z   \n",
       "\n",
       "                   Updated Version  Price Currency  Free  DeveloperId  \\\n",
       "2382  2021-06-05T03:40:31Z     1.0    0.0      USD  True   1569780624   \n",
       "2827  2019-03-23T18:27:49Z   1.0.1    0.0      USD  True   1452131894   \n",
       "3498  2021-10-06T12:15:27Z     1.0    0.0      USD  True   1588267041   \n",
       "5820  2021-05-29T15:20:58Z  1.0.21    0.0      USD  True   1589915483   \n",
       "5821  2021-10-08T17:07:59Z   1.0.2    0.0      USD  True   1589915483   \n",
       "\n",
       "                                         Developer Developer_Url  \\\n",
       "2382                 Hunter Biscuit & Wolf Limited           NaN   \n",
       "2827                               Dhrubajyoti Dey           NaN   \n",
       "3498                              F1RST MOTORS LLC           NaN   \n",
       "5820  OKUVARYUM EGITIM VE TEKNOLOJI ANONIM SIRKETI           NaN   \n",
       "5821  OKUVARYUM EGITIM VE TEKNOLOJI ANONIM SIRKETI           NaN   \n",
       "\n",
       "      Average_User_Rating  Reviews  Current_Version_Score  \\\n",
       "2382              0.00000        0                0.00000   \n",
       "2827              5.00000        5                5.00000   \n",
       "3498              0.00000        0                0.00000   \n",
       "5820              4.44444        9                4.44444   \n",
       "5821              0.00000        0                0.00000   \n",
       "\n",
       "      Current_Version_Reviews  \n",
       "2382                        0  \n",
       "2827                        5  \n",
       "3498                        0  \n",
       "5820                        9  \n",
       "5821                        0  "
      ]
     },
     "execution_count": 77,
     "metadata": {},
     "output_type": "execute_result"
    }
   ],
   "source": [
    "df[df['Developer_Url'].isnull()].head(5)"
   ]
  },
  {
   "cell_type": "code",
   "execution_count": null,
   "metadata": {},
   "outputs": [
    {
     "data": {
      "text/html": [
       "<div>\n",
       "<style scoped>\n",
       "    .dataframe tbody tr th:only-of-type {\n",
       "        vertical-align: middle;\n",
       "    }\n",
       "\n",
       "    .dataframe tbody tr th {\n",
       "        vertical-align: top;\n",
       "    }\n",
       "\n",
       "    .dataframe thead th {\n",
       "        text-align: right;\n",
       "    }\n",
       "</style>\n",
       "<table border=\"1\" class=\"dataframe\">\n",
       "  <thead>\n",
       "    <tr style=\"text-align: right;\">\n",
       "      <th></th>\n",
       "      <th>App_Id</th>\n",
       "      <th>App_Name</th>\n",
       "      <th>AppStore_Url</th>\n",
       "      <th>Primary_Genre</th>\n",
       "      <th>Content_Rating</th>\n",
       "      <th>Size_Bytes</th>\n",
       "      <th>Required_IOS_Version</th>\n",
       "      <th>Released</th>\n",
       "      <th>Updated</th>\n",
       "      <th>Version</th>\n",
       "      <th>Price</th>\n",
       "      <th>Currency</th>\n",
       "      <th>Free</th>\n",
       "      <th>DeveloperId</th>\n",
       "      <th>Developer</th>\n",
       "      <th>Developer_Url</th>\n",
       "      <th>Average_User_Rating</th>\n",
       "      <th>Reviews</th>\n",
       "      <th>Current_Version_Score</th>\n",
       "      <th>Current_Version_Reviews</th>\n",
       "    </tr>\n",
       "  </thead>\n",
       "  <tbody>\n",
       "    <tr>\n",
       "      <th>964888</th>\n",
       "      <td>se.promedia.NA</td>\n",
       "      <td>NaN</td>\n",
       "      <td>https://apps.apple.com/us/app/na/id449134868?uo=4</td>\n",
       "      <td>News</td>\n",
       "      <td>4+</td>\n",
       "      <td>19528704.0</td>\n",
       "      <td>9.0</td>\n",
       "      <td>2011-08-08T11:45:30Z</td>\n",
       "      <td>2020-12-21T14:08:02Z</td>\n",
       "      <td>8.1.2</td>\n",
       "      <td>0.0</td>\n",
       "      <td>USD</td>\n",
       "      <td>True</td>\n",
       "      <td>449134871</td>\n",
       "      <td>Promedia</td>\n",
       "      <td>https://apps.apple.com/us/developer/promedia/i...</td>\n",
       "      <td>5.0</td>\n",
       "      <td>1</td>\n",
       "      <td>5.0</td>\n",
       "      <td>1</td>\n",
       "    </tr>\n",
       "  </tbody>\n",
       "</table>\n",
       "</div>"
      ],
      "text/plain": [
       "                App_Id App_Name  \\\n",
       "964888  se.promedia.NA      NaN   \n",
       "\n",
       "                                             AppStore_Url Primary_Genre  \\\n",
       "964888  https://apps.apple.com/us/app/na/id449134868?uo=4          News   \n",
       "\n",
       "       Content_Rating  Size_Bytes Required_IOS_Version              Released  \\\n",
       "964888             4+  19528704.0                  9.0  2011-08-08T11:45:30Z   \n",
       "\n",
       "                     Updated Version  Price Currency  Free  DeveloperId  \\\n",
       "964888  2020-12-21T14:08:02Z   8.1.2    0.0      USD  True    449134871   \n",
       "\n",
       "       Developer                                      Developer_Url  \\\n",
       "964888  Promedia  https://apps.apple.com/us/developer/promedia/i...   \n",
       "\n",
       "        Average_User_Rating  Reviews  Current_Version_Score  \\\n",
       "964888                  5.0        1                    5.0   \n",
       "\n",
       "        Current_Version_Reviews  \n",
       "964888                        1  "
      ]
     },
     "execution_count": 78,
     "metadata": {},
     "output_type": "execute_result"
    }
   ],
   "source": [
    "df[df['App_Name'].isnull()].head()"
   ]
  },
  {
   "cell_type": "markdown",
   "metadata": {},
   "source": [
    "#### 5.3- Filling the Null Values using Multiple Approaches:"
   ]
  },
  {
   "cell_type": "code",
   "execution_count": null,
   "metadata": {},
   "outputs": [
    {
     "name": "stdout",
     "output_type": "stream",
     "text": [
      "Missing Values in the data:\n",
      " Developer_Url    1109\n",
      "Released            3\n",
      "App_Name            1\n",
      "dtype: int64\n"
     ]
    }
   ],
   "source": [
    "# Finding Null Values\n",
    "# Select the relevant Columns containing missing values\n",
    "columns_with_nulls = ['Developer_Url', 'Released', 'App_Name']\n",
    "# Create a new dataframe with only the columns containing missing values\n",
    "data = df[columns_with_nulls].copy()\n",
    "\n",
    "# Print the number of missing values in the selected columns\n",
    "print(\"Missing Values in the data:\\n\", data.isnull().sum())\n"
   ]
  },
  {
   "cell_type": "markdown",
   "metadata": {},
   "source": [
    "##### 5.4- Mapping Dictionary Approach\n",
    "##### We can try to write code to replace null values in the `app_name`, `Developer_Url`, and `Released` columns by searching for rows with the same `app_ID` and valid values for these columns. For example, if a row has a null value for `app_name`, we can search for another row with the same `app_ID` and a valid `app_name` value, and use that value to fill the null value. "
   ]
  },
  {
   "cell_type": "code",
   "execution_count": null,
   "metadata": {},
   "outputs": [],
   "source": [
    "# Create a mapping dictionary based on either App_Id or App_Name\n",
    "if 'App_Id' in df.columns:\n",
    "    app_map = df.dropna(subset=['Developer_Url', 'App_Id']).set_index('App_Id')['Developer_Url'].to_dict()\n",
    "else:\n",
    "    app_map = df.dropna(subset=['Developer_Url', 'App_Name']).set_index('App_Name')['Developer_Url'].to_dict()\n",
    "\n",
    "# Replace NaN values with released date from app_map using app_id or app_name\n",
    "if 'App_Id' in df.columns:\n",
    "    df['Developer_Url'] = df.apply(lambda row: app_map.get(row['App_Id'], row['Developer_Url']), axis=1)\n",
    "else:\n",
    "    df['Developer_Url'] = df.apply(lambda row: app_map.get(row['App_Name'], row['Developer_Url']), axis=1)\n"
   ]
  },
  {
   "cell_type": "code",
   "execution_count": null,
   "metadata": {},
   "outputs": [
    {
     "data": {
      "text/plain": [
       "App_Id                        0\n",
       "App_Name                      1\n",
       "AppStore_Url                  0\n",
       "Primary_Genre                 0\n",
       "Content_Rating                0\n",
       "Size_Bytes                    0\n",
       "Required_IOS_Version          0\n",
       "Released                      3\n",
       "Updated                       0\n",
       "Version                       0\n",
       "Price                         0\n",
       "Currency                      0\n",
       "Free                          0\n",
       "DeveloperId                   0\n",
       "Developer                     0\n",
       "Developer_Url              1109\n",
       "Average_User_Rating           0\n",
       "Reviews                       0\n",
       "Current_Version_Score         0\n",
       "Current_Version_Reviews       0\n",
       "dtype: int64"
      ]
     },
     "execution_count": 81,
     "metadata": {},
     "output_type": "execute_result"
    }
   ],
   "source": [
    "df.isnull().sum()"
   ]
  },
  {
   "cell_type": "markdown",
   "metadata": {},
   "source": [
    "> The decision has been made to drop the columns that still contain null values. "
   ]
  },
  {
   "cell_type": "code",
   "execution_count": null,
   "metadata": {},
   "outputs": [],
   "source": [
    "df.dropna(subset=['Developer_Url'], inplace=True)\n",
    "df.dropna(subset=['Released'], inplace=True)\n",
    "df.dropna(subset=['App_Name'], inplace=True)"
   ]
  },
  {
   "cell_type": "code",
   "execution_count": null,
   "metadata": {},
   "outputs": [
    {
     "data": {
      "text/plain": [
       "App_Id                     0\n",
       "App_Name                   0\n",
       "AppStore_Url               0\n",
       "Primary_Genre              0\n",
       "Content_Rating             0\n",
       "Size_Bytes                 0\n",
       "Required_IOS_Version       0\n",
       "Released                   0\n",
       "Updated                    0\n",
       "Version                    0\n",
       "Price                      0\n",
       "Currency                   0\n",
       "Free                       0\n",
       "DeveloperId                0\n",
       "Developer                  0\n",
       "Developer_Url              0\n",
       "Average_User_Rating        0\n",
       "Reviews                    0\n",
       "Current_Version_Score      0\n",
       "Current_Version_Reviews    0\n",
       "dtype: int64"
      ]
     },
     "execution_count": 83,
     "metadata": {},
     "output_type": "execute_result"
    }
   ],
   "source": [
    "df.isnull().sum()"
   ]
  },
  {
   "cell_type": "markdown",
   "metadata": {},
   "source": [
    "##### Milestone 1: All null values have been removed from the dataset. 😊\n",
    "> Now, let's find duplicate values and analyse them if its a valid duplication."
   ]
  },
  {
   "cell_type": "code",
   "execution_count": null,
   "metadata": {},
   "outputs": [
    {
     "data": {
      "text/plain": [
       "False"
      ]
     },
     "execution_count": 84,
     "metadata": {},
     "output_type": "execute_result"
    }
   ],
   "source": [
    "df.duplicated().any()\n"
   ]
  },
  {
   "cell_type": "code",
   "execution_count": null,
   "metadata": {},
   "outputs": [
    {
     "data": {
      "text/plain": [
       "Index(['App_Id', 'App_Name', 'AppStore_Url', 'Primary_Genre', 'Content_Rating',\n",
       "       'Size_Bytes', 'Required_IOS_Version', 'Released', 'Updated', 'Version',\n",
       "       'Price', 'Currency', 'Free', 'DeveloperId', 'Developer',\n",
       "       'Developer_Url', 'Average_User_Rating', 'Reviews',\n",
       "       'Current_Version_Score', 'Current_Version_Reviews'],\n",
       "      dtype='object')"
      ]
     },
     "execution_count": 85,
     "metadata": {},
     "output_type": "execute_result"
    }
   ],
   "source": [
    "df.columns"
   ]
  },
  {
   "cell_type": "code",
   "execution_count": null,
   "metadata": {},
   "outputs": [],
   "source": [
    "any_duplicates = df.duplicated(subset=['App_Id', 'App_Name', 'AppStore_Url', 'Primary_Genre', 'Content_Rating',\n",
    "    'Size_Bytes', 'Required_IOS_Version', 'Released', 'Updated', 'Version',\n",
    "    'Price', 'Currency', 'Free', 'DeveloperId', 'Developer',\n",
    "    'Developer_Url', 'Average_User_Rating', 'Reviews',\n",
    "    'Current_Version_Score', 'Current_Version_Reviews']).any()"
   ]
  },
  {
   "cell_type": "code",
   "execution_count": null,
   "metadata": {},
   "outputs": [
    {
     "data": {
      "text/plain": [
       "True"
      ]
     },
     "execution_count": 87,
     "metadata": {},
     "output_type": "execute_result"
    }
   ],
   "source": [
    "boolean = df['App_Name'].duplicated().any()\n",
    "boolean\n"
   ]
  },
  {
   "cell_type": "code",
   "execution_count": null,
   "metadata": {},
   "outputs": [
    {
     "data": {
      "text/plain": [
       "<Axes: ylabel='App_Name'>"
      ]
     },
     "execution_count": 88,
     "metadata": {},
     "output_type": "execute_result"
    },
    {
     "data": {
      "image/png": "[encoded data removed]",
      "text/plain": [
       "<Figure size 1000x500 with 1 Axes>"
      ]
     },
     "metadata": {},
     "output_type": "display_data"
    }
   ],
   "source": [
    "df['App_Name'].value_counts().head(10).plot(kind='barh', figsize=(10,5), color='green')"
   ]
  },
  {
   "cell_type": "code",
   "execution_count": null,
   "metadata": {},
   "outputs": [
    {
     "data": {
      "text/plain": [
       "App_Name\n",
       "Vanguard              6\n",
       "Linker                5\n",
       "Bloom                 5\n",
       "Currency Converter    4\n",
       "Awaken                4\n",
       "                     ..\n",
       "TwoFactor             1\n",
       "TWOTOO                1\n",
       "TwoWayStreaming       1\n",
       "TWSpeed Telecom       1\n",
       "Sổ Điểm Thông Minh    1\n",
       "Name: count, Length: 1222413, dtype: int64"
      ]
     },
     "execution_count": 89,
     "metadata": {},
     "output_type": "execute_result"
    }
   ],
   "source": [
    "df['App_Name'].value_counts().sort_values(ascending=False)"
   ]
  },
  {
   "cell_type": "markdown",
   "metadata": {},
   "source": [
    "> The above cells output and bar graph represnt that App Name column has multiple rows. Let's check out that data in those rows is identical or not."
   ]
  },
  {
   "cell_type": "code",
   "execution_count": null,
   "metadata": {},
   "outputs": [
    {
     "data": {
      "text/html": [
       "<div>\n",
       "<style scoped>\n",
       "    .dataframe tbody tr th:only-of-type {\n",
       "        vertical-align: middle;\n",
       "    }\n",
       "\n",
       "    .dataframe tbody tr th {\n",
       "        vertical-align: top;\n",
       "    }\n",
       "\n",
       "    .dataframe thead th {\n",
       "        text-align: right;\n",
       "    }\n",
       "</style>\n",
       "<table border=\"1\" class=\"dataframe\">\n",
       "  <thead>\n",
       "    <tr style=\"text-align: right;\">\n",
       "      <th></th>\n",
       "      <th>App_Id</th>\n",
       "      <th>App_Name</th>\n",
       "      <th>AppStore_Url</th>\n",
       "      <th>Primary_Genre</th>\n",
       "      <th>Content_Rating</th>\n",
       "      <th>Size_Bytes</th>\n",
       "      <th>Required_IOS_Version</th>\n",
       "      <th>Released</th>\n",
       "      <th>Updated</th>\n",
       "      <th>Version</th>\n",
       "      <th>Price</th>\n",
       "      <th>Currency</th>\n",
       "      <th>Free</th>\n",
       "      <th>DeveloperId</th>\n",
       "      <th>Developer</th>\n",
       "      <th>Developer_Url</th>\n",
       "      <th>Average_User_Rating</th>\n",
       "      <th>Reviews</th>\n",
       "      <th>Current_Version_Score</th>\n",
       "      <th>Current_Version_Reviews</th>\n",
       "    </tr>\n",
       "  </thead>\n",
       "  <tbody>\n",
       "    <tr>\n",
       "      <th>139096</th>\n",
       "      <td>com.cheerg.LinkerTest</td>\n",
       "      <td>Linker</td>\n",
       "      <td>https://apps.apple.com/us/app/linker/id1208886...</td>\n",
       "      <td>Lifestyle</td>\n",
       "      <td>4+</td>\n",
       "      <td>21876736.0</td>\n",
       "      <td>10.0</td>\n",
       "      <td>2017-03-30T20:08:27Z</td>\n",
       "      <td>2018-06-14T20:39:23Z</td>\n",
       "      <td>1.0.14</td>\n",
       "      <td>0.0</td>\n",
       "      <td>USD</td>\n",
       "      <td>True</td>\n",
       "      <td>1208886054</td>\n",
       "      <td>Chun Hsiang Hsieh</td>\n",
       "      <td>https://apps.apple.com/us/developer/chun-hsian...</td>\n",
       "      <td>0.0</td>\n",
       "      <td>0</td>\n",
       "      <td>0.0</td>\n",
       "      <td>0</td>\n",
       "    </tr>\n",
       "    <tr>\n",
       "      <th>462132</th>\n",
       "      <td>br.com.linker</td>\n",
       "      <td>Linker</td>\n",
       "      <td>https://apps.apple.com/us/app/linker/id1472621...</td>\n",
       "      <td>Finance</td>\n",
       "      <td>4+</td>\n",
       "      <td>169309184.0</td>\n",
       "      <td>12.0</td>\n",
       "      <td>2019-08-22T07:00:00Z</td>\n",
       "      <td>2021-10-01T16:08:21Z</td>\n",
       "      <td>2.0.3</td>\n",
       "      <td>0.0</td>\n",
       "      <td>USD</td>\n",
       "      <td>True</td>\n",
       "      <td>1472621726</td>\n",
       "      <td>BEMP SOLUCOES DE PAGAMENTO LTDA</td>\n",
       "      <td>https://apps.apple.com/us/developer/bemp-soluc...</td>\n",
       "      <td>4.4</td>\n",
       "      <td>5</td>\n",
       "      <td>4.4</td>\n",
       "      <td>5</td>\n",
       "    </tr>\n",
       "    <tr>\n",
       "      <th>745039</th>\n",
       "      <td>team.linker.linker</td>\n",
       "      <td>Linker</td>\n",
       "      <td>https://apps.apple.com/us/app/linker/id1558364...</td>\n",
       "      <td>Health &amp; Fitness</td>\n",
       "      <td>4+</td>\n",
       "      <td>97497088.0</td>\n",
       "      <td>10.0</td>\n",
       "      <td>2021-03-30T07:00:00Z</td>\n",
       "      <td>2021-08-23T11:16:44Z</td>\n",
       "      <td>1.0.7</td>\n",
       "      <td>0.0</td>\n",
       "      <td>USD</td>\n",
       "      <td>True</td>\n",
       "      <td>1558364892</td>\n",
       "      <td>Linker ApS</td>\n",
       "      <td>https://apps.apple.com/us/developer/linker-aps...</td>\n",
       "      <td>0.0</td>\n",
       "      <td>0</td>\n",
       "      <td>0.0</td>\n",
       "      <td>0</td>\n",
       "    </tr>\n",
       "    <tr>\n",
       "      <th>954862</th>\n",
       "      <td>com.kubo.Linker</td>\n",
       "      <td>Linker</td>\n",
       "      <td>https://apps.apple.com/us/app/linker/id1169163...</td>\n",
       "      <td>Travel</td>\n",
       "      <td>4+</td>\n",
       "      <td>34196480.0</td>\n",
       "      <td>7.0</td>\n",
       "      <td>2017-05-16T11:32:18Z</td>\n",
       "      <td>2017-10-10T01:56:27Z</td>\n",
       "      <td>39.2</td>\n",
       "      <td>0.0</td>\n",
       "      <td>USD</td>\n",
       "      <td>True</td>\n",
       "      <td>370982422</td>\n",
       "      <td>Kubo Mobile Applications SA</td>\n",
       "      <td>https://apps.apple.com/us/developer/kubo-mobil...</td>\n",
       "      <td>0.0</td>\n",
       "      <td>0</td>\n",
       "      <td>0.0</td>\n",
       "      <td>0</td>\n",
       "    </tr>\n",
       "    <tr>\n",
       "      <th>1206501</th>\n",
       "      <td>com.tilon.elcloud.rdc</td>\n",
       "      <td>Linker</td>\n",
       "      <td>https://apps.apple.com/us/app/linker/id1215552...</td>\n",
       "      <td>Utilities</td>\n",
       "      <td>4+</td>\n",
       "      <td>58948209.0</td>\n",
       "      <td>10.6.6</td>\n",
       "      <td>2017-05-30T19:54:25Z</td>\n",
       "      <td>2017-05-30T19:54:25Z</td>\n",
       "      <td>3.3.1</td>\n",
       "      <td>0.0</td>\n",
       "      <td>USD</td>\n",
       "      <td>True</td>\n",
       "      <td>355652681</td>\n",
       "      <td>TILON CO., LTD.</td>\n",
       "      <td>https://apps.apple.com/us/developer/tilon-co-l...</td>\n",
       "      <td>0.0</td>\n",
       "      <td>0</td>\n",
       "      <td>0.0</td>\n",
       "      <td>0</td>\n",
       "    </tr>\n",
       "  </tbody>\n",
       "</table>\n",
       "</div>"
      ],
      "text/plain": [
       "                        App_Id App_Name  \\\n",
       "139096   com.cheerg.LinkerTest   Linker   \n",
       "462132           br.com.linker   Linker   \n",
       "745039      team.linker.linker   Linker   \n",
       "954862         com.kubo.Linker   Linker   \n",
       "1206501  com.tilon.elcloud.rdc   Linker   \n",
       "\n",
       "                                              AppStore_Url     Primary_Genre  \\\n",
       "139096   https://apps.apple.com/us/app/linker/id1208886...         Lifestyle   \n",
       "462132   https://apps.apple.com/us/app/linker/id1472621...           Finance   \n",
       "745039   https://apps.apple.com/us/app/linker/id1558364...  Health & Fitness   \n",
       "954862   https://apps.apple.com/us/app/linker/id1169163...            Travel   \n",
       "1206501  https://apps.apple.com/us/app/linker/id1215552...         Utilities   \n",
       "\n",
       "        Content_Rating   Size_Bytes Required_IOS_Version  \\\n",
       "139096              4+   21876736.0                 10.0   \n",
       "462132              4+  169309184.0                 12.0   \n",
       "745039              4+   97497088.0                 10.0   \n",
       "954862              4+   34196480.0                  7.0   \n",
       "1206501             4+   58948209.0               10.6.6   \n",
       "\n",
       "                     Released               Updated Version  Price Currency  \\\n",
       "139096   2017-03-30T20:08:27Z  2018-06-14T20:39:23Z  1.0.14    0.0      USD   \n",
       "462132   2019-08-22T07:00:00Z  2021-10-01T16:08:21Z   2.0.3    0.0      USD   \n",
       "745039   2021-03-30T07:00:00Z  2021-08-23T11:16:44Z   1.0.7    0.0      USD   \n",
       "954862   2017-05-16T11:32:18Z  2017-10-10T01:56:27Z    39.2    0.0      USD   \n",
       "1206501  2017-05-30T19:54:25Z  2017-05-30T19:54:25Z   3.3.1    0.0      USD   \n",
       "\n",
       "         Free  DeveloperId                        Developer  \\\n",
       "139096   True   1208886054                Chun Hsiang Hsieh   \n",
       "462132   True   1472621726  BEMP SOLUCOES DE PAGAMENTO LTDA   \n",
       "745039   True   1558364892                       Linker ApS   \n",
       "954862   True    370982422      Kubo Mobile Applications SA   \n",
       "1206501  True    355652681                  TILON CO., LTD.   \n",
       "\n",
       "                                             Developer_Url  \\\n",
       "139096   https://apps.apple.com/us/developer/chun-hsian...   \n",
       "462132   https://apps.apple.com/us/developer/bemp-soluc...   \n",
       "745039   https://apps.apple.com/us/developer/linker-aps...   \n",
       "954862   https://apps.apple.com/us/developer/kubo-mobil...   \n",
       "1206501  https://apps.apple.com/us/developer/tilon-co-l...   \n",
       "\n",
       "         Average_User_Rating  Reviews  Current_Version_Score  \\\n",
       "139096                   0.0        0                    0.0   \n",
       "462132                   4.4        5                    4.4   \n",
       "745039                   0.0        0                    0.0   \n",
       "954862                   0.0        0                    0.0   \n",
       "1206501                  0.0        0                    0.0   \n",
       "\n",
       "         Current_Version_Reviews  \n",
       "139096                         0  \n",
       "462132                         5  \n",
       "745039                         0  \n",
       "954862                         0  \n",
       "1206501                        0  "
      ]
     },
     "execution_count": 90,
     "metadata": {},
     "output_type": "execute_result"
    }
   ],
   "source": [
    "df[df['App_Name'] == 'Linker']"
   ]
  },
  {
   "cell_type": "markdown",
   "metadata": {},
   "source": [
    "#### Milestone 2: Finally, no duplicates found!"
   ]
  },
  {
   "cell_type": "markdown",
   "metadata": {},
   "source": [
    "#### 5.5- Exploring Numeric columns / Attributes of the dataset:\n",
    ">Specifically: Size_Bytes, Price, DevelopeID, Average_User_Rating, Reviews, Current_Version_Score, Current_Version_Reviews "
   ]
  },
  {
   "cell_type": "code",
   "execution_count": null,
   "metadata": {},
   "outputs": [
    {
     "data": {
      "text/plain": [
       "array([2.19934720e+07, 1.31358720e+07, 2.19432960e+07, ...,\n",
       "       1.19404544e+08, 5.96570000e+05, 5.06896000e+05])"
      ]
     },
     "execution_count": 91,
     "metadata": {},
     "output_type": "execute_result"
    }
   ],
   "source": [
    "df['Size_Bytes'].unique()"
   ]
  },
  {
   "cell_type": "code",
   "execution_count": null,
   "metadata": {},
   "outputs": [
    {
     "data": {
      "text/plain": [
       "Index(['App_Id', 'App_Name', 'AppStore_Url', 'Primary_Genre', 'Content_Rating',\n",
       "       'Size_Bytes', 'Required_IOS_Version', 'Released', 'Updated', 'Version',\n",
       "       'Price', 'Currency', 'Free', 'DeveloperId', 'Developer',\n",
       "       'Developer_Url', 'Average_User_Rating', 'Reviews',\n",
       "       'Current_Version_Score', 'Current_Version_Reviews', 'Size_MB'],\n",
       "      dtype='object')"
      ]
     },
     "execution_count": 92,
     "metadata": {},
     "output_type": "execute_result"
    }
   ],
   "source": [
    " # Conversion of Size_Bytes into MBs: \n",
    " #First Adding column to hold Size_Bytes in MBs, then we will convert Size_Bytes data to KB and then to MB.\n",
    "df['Size_MB'] = 0 \n",
    "df.columns"
   ]
  },
  {
   "cell_type": "code",
   "execution_count": null,
   "metadata": {},
   "outputs": [],
   "source": [
    "df['Size_MB'] = df['Size_Bytes'].apply(lambda x: (float(x) / 1024)/1024)\n"
   ]
  },
  {
   "cell_type": "code",
   "execution_count": null,
   "metadata": {},
   "outputs": [
    {
     "data": {
      "text/plain": [
       "73222.59172439575"
      ]
     },
     "execution_count": 94,
     "metadata": {},
     "output_type": "execute_result"
    }
   ],
   "source": [
    "df.Size_MB.max()"
   ]
  },
  {
   "cell_type": "code",
   "execution_count": null,
   "metadata": {},
   "outputs": [
    {
     "data": {
      "text/plain": [
       "0.026348114013671875"
      ]
     },
     "execution_count": 95,
     "metadata": {},
     "output_type": "execute_result"
    }
   ],
   "source": [
    "df.Size_MB.min()"
   ]
  },
  {
   "cell_type": "code",
   "execution_count": null,
   "metadata": {},
   "outputs": [
    {
     "data": {
      "text/plain": [
       "Free\n",
       "True     1126288\n",
       "False     102975\n",
       "Name: count, dtype: int64"
      ]
     },
     "execution_count": 96,
     "metadata": {},
     "output_type": "execute_result"
    }
   ],
   "source": [
    "df['Free'].value_counts()"
   ]
  },
  {
   "cell_type": "code",
   "execution_count": null,
   "metadata": {},
   "outputs": [
    {
     "data": {
      "text/plain": [
       "array([0.     , 5.     , 4.78132, ..., 4.00352, 3.91608, 4.82733])"
      ]
     },
     "execution_count": 97,
     "metadata": {},
     "output_type": "execute_result"
    }
   ],
   "source": [
    "\n",
    "df['Average_User_Rating'].unique()"
   ]
  },
  {
   "cell_type": "code",
   "execution_count": null,
   "metadata": {},
   "outputs": [
    {
     "data": {
      "text/plain": [
       "array([    0,     1,  1285, ..., 12691, 35476, 10481], dtype=int64)"
      ]
     },
     "execution_count": 98,
     "metadata": {},
     "output_type": "execute_result"
    }
   ],
   "source": [
    "df['Reviews'].unique()\n"
   ]
  },
  {
   "cell_type": "code",
   "execution_count": null,
   "metadata": {},
   "outputs": [
    {
     "data": {
      "text/plain": [
       "array([0.     , 5.     , 4.78132, ..., 4.00352, 3.91608, 4.82733])"
      ]
     },
     "execution_count": 99,
     "metadata": {},
     "output_type": "execute_result"
    }
   ],
   "source": [
    "df['Current_Version_Score'].unique()\n"
   ]
  },
  {
   "cell_type": "code",
   "execution_count": null,
   "metadata": {},
   "outputs": [
    {
     "data": {
      "text/plain": [
       "array(['USD'], dtype=object)"
      ]
     },
     "execution_count": 100,
     "metadata": {},
     "output_type": "execute_result"
    }
   ],
   "source": [
    "df['Currency'].unique()\n"
   ]
  },
  {
   "cell_type": "markdown",
   "metadata": {},
   "source": [
    "> The dataset uses the standard US Dollar currency 💵💵💵 throughout."
   ]
  },
  {
   "cell_type": "markdown",
   "metadata": {},
   "source": [
    "#### 5.6-  Creataing the column type \n",
    ">This section of the code is creating a new column that distinguishes between free and paid apps. This is useful for improving the readability of the data when dealing with both paid and free apps.\n",
    "\n",
    "\n"
   ]
  },
  {
   "cell_type": "code",
   "execution_count": null,
   "metadata": {},
   "outputs": [],
   "source": [
    "df['Type'] = np.where(df['Free'] == True,'Free','Paid')\n",
    "df.drop(['Free'],axis=1, inplace= True )"
   ]
  },
  {
   "cell_type": "code",
   "execution_count": null,
   "metadata": {},
   "outputs": [
    {
     "data": {
      "text/html": [
       "<div>\n",
       "<style scoped>\n",
       "    .dataframe tbody tr th:only-of-type {\n",
       "        vertical-align: middle;\n",
       "    }\n",
       "\n",
       "    .dataframe tbody tr th {\n",
       "        vertical-align: top;\n",
       "    }\n",
       "\n",
       "    .dataframe thead th {\n",
       "        text-align: right;\n",
       "    }\n",
       "</style>\n",
       "<table border=\"1\" class=\"dataframe\">\n",
       "  <thead>\n",
       "    <tr style=\"text-align: right;\">\n",
       "      <th></th>\n",
       "      <th>App_Id</th>\n",
       "      <th>App_Name</th>\n",
       "      <th>AppStore_Url</th>\n",
       "      <th>Primary_Genre</th>\n",
       "      <th>Content_Rating</th>\n",
       "      <th>Size_Bytes</th>\n",
       "      <th>Required_IOS_Version</th>\n",
       "      <th>Released</th>\n",
       "      <th>Updated</th>\n",
       "      <th>Version</th>\n",
       "      <th>...</th>\n",
       "      <th>Currency</th>\n",
       "      <th>DeveloperId</th>\n",
       "      <th>Developer</th>\n",
       "      <th>Developer_Url</th>\n",
       "      <th>Average_User_Rating</th>\n",
       "      <th>Reviews</th>\n",
       "      <th>Current_Version_Score</th>\n",
       "      <th>Current_Version_Reviews</th>\n",
       "      <th>Size_MB</th>\n",
       "      <th>Type</th>\n",
       "    </tr>\n",
       "  </thead>\n",
       "  <tbody>\n",
       "    <tr>\n",
       "      <th>0</th>\n",
       "      <td>com.hkbu.arc.apaper</td>\n",
       "      <td>A+ Paper Guide</td>\n",
       "      <td>https://apps.apple.com/us/app/a-paper-guide/id...</td>\n",
       "      <td>Education</td>\n",
       "      <td>4+</td>\n",
       "      <td>21993472.0</td>\n",
       "      <td>8.0</td>\n",
       "      <td>2017-09-28T03:02:41Z</td>\n",
       "      <td>2018-12-21T21:30:36Z</td>\n",
       "      <td>1.1.2</td>\n",
       "      <td>...</td>\n",
       "      <td>USD</td>\n",
       "      <td>1375410542</td>\n",
       "      <td>HKBU ARC</td>\n",
       "      <td>https://apps.apple.com/us/developer/hkbu-arc/i...</td>\n",
       "      <td>0.0</td>\n",
       "      <td>0</td>\n",
       "      <td>0.0</td>\n",
       "      <td>0</td>\n",
       "      <td>20.974609</td>\n",
       "      <td>Free</td>\n",
       "    </tr>\n",
       "    <tr>\n",
       "      <th>1</th>\n",
       "      <td>com.dmitriev.abooks</td>\n",
       "      <td>A-Books</td>\n",
       "      <td>https://apps.apple.com/us/app/a-books/id103157...</td>\n",
       "      <td>Book</td>\n",
       "      <td>4+</td>\n",
       "      <td>13135872.0</td>\n",
       "      <td>10.0</td>\n",
       "      <td>2015-08-31T19:31:32Z</td>\n",
       "      <td>2019-07-23T20:31:09Z</td>\n",
       "      <td>1.3</td>\n",
       "      <td>...</td>\n",
       "      <td>USD</td>\n",
       "      <td>1031572001</td>\n",
       "      <td>Roman Dmitriev</td>\n",
       "      <td>https://apps.apple.com/us/developer/roman-dmit...</td>\n",
       "      <td>5.0</td>\n",
       "      <td>1</td>\n",
       "      <td>5.0</td>\n",
       "      <td>1</td>\n",
       "      <td>12.527344</td>\n",
       "      <td>Free</td>\n",
       "    </tr>\n",
       "    <tr>\n",
       "      <th>2</th>\n",
       "      <td>no.terp.abooks</td>\n",
       "      <td>A-books</td>\n",
       "      <td>https://apps.apple.com/us/app/a-books/id145702...</td>\n",
       "      <td>Book</td>\n",
       "      <td>4+</td>\n",
       "      <td>21943296.0</td>\n",
       "      <td>9.0</td>\n",
       "      <td>2021-04-14T07:00:00Z</td>\n",
       "      <td>2021-05-30T21:08:54Z</td>\n",
       "      <td>1.3.1</td>\n",
       "      <td>...</td>\n",
       "      <td>USD</td>\n",
       "      <td>1457024163</td>\n",
       "      <td>Terp AS</td>\n",
       "      <td>https://apps.apple.com/us/developer/terp-as/id...</td>\n",
       "      <td>0.0</td>\n",
       "      <td>0</td>\n",
       "      <td>0.0</td>\n",
       "      <td>0</td>\n",
       "      <td>20.926758</td>\n",
       "      <td>Free</td>\n",
       "    </tr>\n",
       "    <tr>\n",
       "      <th>3</th>\n",
       "      <td>fr.antoinettefleur.Book1</td>\n",
       "      <td>A-F Book #1</td>\n",
       "      <td>https://apps.apple.com/us/app/a-f-book-1/id500...</td>\n",
       "      <td>Book</td>\n",
       "      <td>4+</td>\n",
       "      <td>81851392.0</td>\n",
       "      <td>8.0</td>\n",
       "      <td>2012-02-10T03:40:07Z</td>\n",
       "      <td>2019-10-29T12:40:37Z</td>\n",
       "      <td>1.2</td>\n",
       "      <td>...</td>\n",
       "      <td>USD</td>\n",
       "      <td>439568839</td>\n",
       "      <td>i-editeur.com</td>\n",
       "      <td>https://apps.apple.com/us/developer/i-editeur-...</td>\n",
       "      <td>0.0</td>\n",
       "      <td>0</td>\n",
       "      <td>0.0</td>\n",
       "      <td>0</td>\n",
       "      <td>78.059570</td>\n",
       "      <td>Paid</td>\n",
       "    </tr>\n",
       "    <tr>\n",
       "      <th>4</th>\n",
       "      <td>com.imonstersoft.azdictionaryios</td>\n",
       "      <td>A-Z Synonyms Dictionary</td>\n",
       "      <td>https://apps.apple.com/us/app/a-z-synonyms-dic...</td>\n",
       "      <td>Reference</td>\n",
       "      <td>4+</td>\n",
       "      <td>64692224.0</td>\n",
       "      <td>9.0</td>\n",
       "      <td>2020-12-16T08:00:00Z</td>\n",
       "      <td>2020-12-18T21:36:11Z</td>\n",
       "      <td>1.0.1</td>\n",
       "      <td>...</td>\n",
       "      <td>USD</td>\n",
       "      <td>656731821</td>\n",
       "      <td>Ngov chiheang</td>\n",
       "      <td>https://apps.apple.com/us/developer/ngov-chihe...</td>\n",
       "      <td>0.0</td>\n",
       "      <td>0</td>\n",
       "      <td>0.0</td>\n",
       "      <td>0</td>\n",
       "      <td>61.695312</td>\n",
       "      <td>Free</td>\n",
       "    </tr>\n",
       "  </tbody>\n",
       "</table>\n",
       "<p>5 rows × 21 columns</p>\n",
       "</div>"
      ],
      "text/plain": [
       "                             App_Id                 App_Name  \\\n",
       "0               com.hkbu.arc.apaper           A+ Paper Guide   \n",
       "1               com.dmitriev.abooks                  A-Books   \n",
       "2                    no.terp.abooks                  A-books   \n",
       "3          fr.antoinettefleur.Book1              A-F Book #1   \n",
       "4  com.imonstersoft.azdictionaryios  A-Z Synonyms Dictionary   \n",
       "\n",
       "                                        AppStore_Url Primary_Genre  \\\n",
       "0  https://apps.apple.com/us/app/a-paper-guide/id...     Education   \n",
       "1  https://apps.apple.com/us/app/a-books/id103157...          Book   \n",
       "2  https://apps.apple.com/us/app/a-books/id145702...          Book   \n",
       "3  https://apps.apple.com/us/app/a-f-book-1/id500...          Book   \n",
       "4  https://apps.apple.com/us/app/a-z-synonyms-dic...     Reference   \n",
       "\n",
       "  Content_Rating  Size_Bytes Required_IOS_Version              Released  \\\n",
       "0             4+  21993472.0                  8.0  2017-09-28T03:02:41Z   \n",
       "1             4+  13135872.0                 10.0  2015-08-31T19:31:32Z   \n",
       "2             4+  21943296.0                  9.0  2021-04-14T07:00:00Z   \n",
       "3             4+  81851392.0                  8.0  2012-02-10T03:40:07Z   \n",
       "4             4+  64692224.0                  9.0  2020-12-16T08:00:00Z   \n",
       "\n",
       "                Updated Version  ...  Currency DeveloperId       Developer  \\\n",
       "0  2018-12-21T21:30:36Z   1.1.2  ...       USD  1375410542        HKBU ARC   \n",
       "1  2019-07-23T20:31:09Z     1.3  ...       USD  1031572001  Roman Dmitriev   \n",
       "2  2021-05-30T21:08:54Z   1.3.1  ...       USD  1457024163         Terp AS   \n",
       "3  2019-10-29T12:40:37Z     1.2  ...       USD   439568839   i-editeur.com   \n",
       "4  2020-12-18T21:36:11Z   1.0.1  ...       USD   656731821   Ngov chiheang   \n",
       "\n",
       "                                       Developer_Url Average_User_Rating  \\\n",
       "0  https://apps.apple.com/us/developer/hkbu-arc/i...                 0.0   \n",
       "1  https://apps.apple.com/us/developer/roman-dmit...                 5.0   \n",
       "2  https://apps.apple.com/us/developer/terp-as/id...                 0.0   \n",
       "3  https://apps.apple.com/us/developer/i-editeur-...                 0.0   \n",
       "4  https://apps.apple.com/us/developer/ngov-chihe...                 0.0   \n",
       "\n",
       "   Reviews  Current_Version_Score  Current_Version_Reviews    Size_MB  Type  \n",
       "0        0                    0.0                        0  20.974609  Free  \n",
       "1        1                    5.0                        1  12.527344  Free  \n",
       "2        0                    0.0                        0  20.926758  Free  \n",
       "3        0                    0.0                        0  78.059570  Paid  \n",
       "4        0                    0.0                        0  61.695312  Free  \n",
       "\n",
       "[5 rows x 21 columns]"
      ]
     },
     "execution_count": 102,
     "metadata": {},
     "output_type": "execute_result"
    }
   ],
   "source": [
    "df.head(5)\n"
   ]
  },
  {
   "cell_type": "markdown",
   "metadata": {},
   "source": [
    "#### 5.6- Visualizing the relation between Price and Size_MB:"
   ]
  },
  {
   "cell_type": "code",
   "execution_count": 191,
   "metadata": {},
   "outputs": [
    {
     "data": {
      "text/plain": [
       "<Axes: xlabel='Price', ylabel='Size_Bytes'>"
      ]
     },
     "execution_count": 191,
     "metadata": {},
     "output_type": "execute_result"
    },
    {
     "data": {
      "image/png": "[encoded data removed]",
      "text/plain": [
       "<Figure size 1500x700 with 1 Axes>"
      ]
     },
     "metadata": {},
     "output_type": "display_data"
    }
   ],
   "source": [
    "\n",
    "sns.scatterplot(data=df, x=\"Price\", y=\"Size_Bytes\", hue=\"Free\")"
   ]
  },
  {
   "cell_type": "markdown",
   "metadata": {},
   "source": [
    ">The scatter plot displays that Apple apps with a size ranging from 0 to more than 10,000 are free, while the remaining apps are paid."
   ]
  },
  {
   "cell_type": "code",
   "execution_count": null,
   "metadata": {},
   "outputs": [],
   "source": [
    "# # What is the relationship between the price and size of paid apps, and how it differs based on the content rating?"
   ]
  },
  {
   "cell_type": "code",
   "execution_count": null,
   "metadata": {},
   "outputs": [
    {
     "data": {
      "text/plain": [
       "<Axes: xlabel='Price', ylabel='size_mb'>"
      ]
     },
     "execution_count": 172,
     "metadata": {},
     "output_type": "execute_result"
    },
    {
     "data": {
      "image/png": "[encoded data removed]",
      "text/plain": [
       "<Figure size 1000x500 with 1 Axes>"
      ]
     },
     "metadata": {},
     "output_type": "display_data"
    }
   ],
   "source": [
    "sns.scatterplot(data=df[df['Free']==False], x='Price', y='size_mb', hue='Content_Rating')"
   ]
  },
  {
   "cell_type": "markdown",
   "metadata": {},
   "source": [
    ">This plot displays the relationship between the price and size of paid apps. The majority of the apps have a content rating of 4+, and the range of prices and sizes extends up to the maximum point of the 17+ content rating. The content ratings of 4+ and 17+ are among the highest categories for paid apps."
   ]
  },
  {
   "cell_type": "code",
   "execution_count": 23,
   "metadata": {},
   "outputs": [
    {
     "name": "stdout",
     "output_type": "stream",
     "text": [
      "Pearson correlation coefficient: -0.0006359933405874481\n"
     ]
    }
   ],
   "source": [
    "# To view the relationship between the price and number of reviews of paid apps?\n",
    "import pandas as pd\n",
    "\n",
    "# Filter the data to only include paid apps\n",
    "paid_apps = df[df['Price'] > 0]\n",
    "\n",
    "# Calculate the Pearson correlation coefficient between price and number of reviews\n",
    "corr = paid_apps['Price'].corr(paid_apps['Reviews'])\n",
    "\n",
    "# Print the Pearson correlation coefficient\n",
    "print('Pearson correlation coefficient:', corr)"
   ]
  },
  {
   "cell_type": "markdown",
   "metadata": {},
   "source": [
    ">The Pearson correlation coefficient is a measure of the linear correlation between two variables. In this case, the Pearson correlation coefficient between the price and number of reviews of paid apps is -0.0006359933405874481.A value of -1 indicates a perfect negative correlation, 0 indicates no correlation, and 1 indicates a perfect positive correlation. Since the Pearson correlation coefficient in this case is very close to 0, it suggests that there is little to no linear correlation between the price and number of reviews of paid apps. In other words, the price of a paid app does not seem to have a significant impact on the number of reviews it receives."
   ]
  },
  {
   "cell_type": "code",
   "execution_count": null,
   "metadata": {},
   "outputs": [
    {
     "data": {
      "text/plain": [
       "Index(['Content Rating', 'Price', 'Size'], dtype='object')"
      ]
     },
     "execution_count": 58,
     "metadata": {},
     "output_type": "execute_result"
    }
   ],
   "source": [
    "df.columns"
   ]
  },
  {
   "cell_type": "code",
   "execution_count": null,
   "metadata": {},
   "outputs": [],
   "source": [
    "# Visualizing the column \"Content_Rating\":\n"
   ]
  },
  {
   "cell_type": "code",
   "execution_count": 115,
   "metadata": {},
   "outputs": [
    {
     "data": {
      "text/plain": [
       "array(['4+', '17+', '9+', '12+', 'Not yet rated'], dtype=object)"
      ]
     },
     "execution_count": 115,
     "metadata": {},
     "output_type": "execute_result"
    }
   ],
   "source": [
    "df[\"Content_Rating\"].unique()"
   ]
  },
  {
   "cell_type": "code",
   "execution_count": 116,
   "metadata": {},
   "outputs": [
    {
     "data": {
      "text/plain": [
       "Content_Rating\n",
       "4+               980971\n",
       "17+              124127\n",
       "12+               89570\n",
       "9+                35698\n",
       "Not yet rated        10\n",
       "Name: count, dtype: int64"
      ]
     },
     "execution_count": 116,
     "metadata": {},
     "output_type": "execute_result"
    }
   ],
   "source": [
    "df[\"Content_Rating\"].value_counts()"
   ]
  },
  {
   "cell_type": "code",
   "execution_count": 193,
   "metadata": {},
   "outputs": [
    {
     "data": {
      "image/png": "[encoded data removed]",
      "text/plain": [
       "<Figure size 1500x700 with 1 Axes>"
      ]
     },
     "metadata": {},
     "output_type": "display_data"
    }
   ],
   "source": [
    "import seaborn as sns\n",
    "import matplotlib.pyplot as plt\n",
    "\n",
    "content_rating_counts = df['Content_Rating'].value_counts()\n",
    "sns.barplot(x=content_rating_counts.index, y=content_rating_counts.values)\n",
    "plt.xlabel('Content Rating')\n",
    "plt.ylabel('Number of Apps')\n",
    "plt.show()\n"
   ]
  },
  {
   "cell_type": "code",
   "execution_count": 118,
   "metadata": {},
   "outputs": [
    {
     "data": {
      "text/html": [
       "<div>\n",
       "<style scoped>\n",
       "    .dataframe tbody tr th:only-of-type {\n",
       "        vertical-align: middle;\n",
       "    }\n",
       "\n",
       "    .dataframe tbody tr th {\n",
       "        vertical-align: top;\n",
       "    }\n",
       "\n",
       "    .dataframe thead th {\n",
       "        text-align: right;\n",
       "    }\n",
       "</style>\n",
       "<table border=\"1\" class=\"dataframe\">\n",
       "  <thead>\n",
       "    <tr style=\"text-align: right;\">\n",
       "      <th></th>\n",
       "      <th>App_Id</th>\n",
       "      <th>App_Name</th>\n",
       "      <th>AppStore_Url</th>\n",
       "      <th>Primary_Genre</th>\n",
       "      <th>Content_Rating</th>\n",
       "      <th>Size_Bytes</th>\n",
       "      <th>Required_IOS_Version</th>\n",
       "      <th>Released</th>\n",
       "      <th>Updated</th>\n",
       "      <th>Version</th>\n",
       "      <th>...</th>\n",
       "      <th>Currency</th>\n",
       "      <th>Free</th>\n",
       "      <th>DeveloperId</th>\n",
       "      <th>Developer</th>\n",
       "      <th>Developer_Url</th>\n",
       "      <th>Developer_Website</th>\n",
       "      <th>Average_User_Rating</th>\n",
       "      <th>Reviews</th>\n",
       "      <th>Current_Version_Score</th>\n",
       "      <th>Current_Version_Reviews</th>\n",
       "    </tr>\n",
       "  </thead>\n",
       "  <tbody>\n",
       "    <tr>\n",
       "      <th>0</th>\n",
       "      <td>com.hkbu.arc.apaper</td>\n",
       "      <td>A+ Paper Guide</td>\n",
       "      <td>https://apps.apple.com/us/app/a-paper-guide/id...</td>\n",
       "      <td>Education</td>\n",
       "      <td>4+</td>\n",
       "      <td>21993472.0</td>\n",
       "      <td>8.0</td>\n",
       "      <td>2017-09-28T03:02:41Z</td>\n",
       "      <td>2018-12-21T21:30:36Z</td>\n",
       "      <td>1.1.2</td>\n",
       "      <td>...</td>\n",
       "      <td>USD</td>\n",
       "      <td>True</td>\n",
       "      <td>1375410542</td>\n",
       "      <td>HKBU ARC</td>\n",
       "      <td>https://apps.apple.com/us/developer/hkbu-arc/i...</td>\n",
       "      <td>NaN</td>\n",
       "      <td>0.0</td>\n",
       "      <td>0</td>\n",
       "      <td>0.0</td>\n",
       "      <td>0</td>\n",
       "    </tr>\n",
       "    <tr>\n",
       "      <th>1</th>\n",
       "      <td>com.dmitriev.abooks</td>\n",
       "      <td>A-Books</td>\n",
       "      <td>https://apps.apple.com/us/app/a-books/id103157...</td>\n",
       "      <td>Book</td>\n",
       "      <td>4+</td>\n",
       "      <td>13135872.0</td>\n",
       "      <td>10.0</td>\n",
       "      <td>2015-08-31T19:31:32Z</td>\n",
       "      <td>2019-07-23T20:31:09Z</td>\n",
       "      <td>1.3</td>\n",
       "      <td>...</td>\n",
       "      <td>USD</td>\n",
       "      <td>True</td>\n",
       "      <td>1031572001</td>\n",
       "      <td>Roman Dmitriev</td>\n",
       "      <td>https://apps.apple.com/us/developer/roman-dmit...</td>\n",
       "      <td>NaN</td>\n",
       "      <td>5.0</td>\n",
       "      <td>1</td>\n",
       "      <td>5.0</td>\n",
       "      <td>1</td>\n",
       "    </tr>\n",
       "    <tr>\n",
       "      <th>2</th>\n",
       "      <td>no.terp.abooks</td>\n",
       "      <td>A-books</td>\n",
       "      <td>https://apps.apple.com/us/app/a-books/id145702...</td>\n",
       "      <td>Book</td>\n",
       "      <td>4+</td>\n",
       "      <td>21943296.0</td>\n",
       "      <td>9.0</td>\n",
       "      <td>2021-04-14T07:00:00Z</td>\n",
       "      <td>2021-05-30T21:08:54Z</td>\n",
       "      <td>1.3.1</td>\n",
       "      <td>...</td>\n",
       "      <td>USD</td>\n",
       "      <td>True</td>\n",
       "      <td>1457024163</td>\n",
       "      <td>Terp AS</td>\n",
       "      <td>https://apps.apple.com/us/developer/terp-as/id...</td>\n",
       "      <td>NaN</td>\n",
       "      <td>0.0</td>\n",
       "      <td>0</td>\n",
       "      <td>0.0</td>\n",
       "      <td>0</td>\n",
       "    </tr>\n",
       "    <tr>\n",
       "      <th>3</th>\n",
       "      <td>fr.antoinettefleur.Book1</td>\n",
       "      <td>A-F Book #1</td>\n",
       "      <td>https://apps.apple.com/us/app/a-f-book-1/id500...</td>\n",
       "      <td>Book</td>\n",
       "      <td>4+</td>\n",
       "      <td>81851392.0</td>\n",
       "      <td>8.0</td>\n",
       "      <td>2012-02-10T03:40:07Z</td>\n",
       "      <td>2019-10-29T12:40:37Z</td>\n",
       "      <td>1.2</td>\n",
       "      <td>...</td>\n",
       "      <td>USD</td>\n",
       "      <td>False</td>\n",
       "      <td>439568839</td>\n",
       "      <td>i-editeur.com</td>\n",
       "      <td>https://apps.apple.com/us/developer/i-editeur-...</td>\n",
       "      <td>NaN</td>\n",
       "      <td>0.0</td>\n",
       "      <td>0</td>\n",
       "      <td>0.0</td>\n",
       "      <td>0</td>\n",
       "    </tr>\n",
       "    <tr>\n",
       "      <th>4</th>\n",
       "      <td>com.imonstersoft.azdictionaryios</td>\n",
       "      <td>A-Z Synonyms Dictionary</td>\n",
       "      <td>https://apps.apple.com/us/app/a-z-synonyms-dic...</td>\n",
       "      <td>Reference</td>\n",
       "      <td>4+</td>\n",
       "      <td>64692224.0</td>\n",
       "      <td>9.0</td>\n",
       "      <td>2020-12-16T08:00:00Z</td>\n",
       "      <td>2020-12-18T21:36:11Z</td>\n",
       "      <td>1.0.1</td>\n",
       "      <td>...</td>\n",
       "      <td>USD</td>\n",
       "      <td>True</td>\n",
       "      <td>656731821</td>\n",
       "      <td>Ngov chiheang</td>\n",
       "      <td>https://apps.apple.com/us/developer/ngov-chihe...</td>\n",
       "      <td>http://imonstersoft.com</td>\n",
       "      <td>0.0</td>\n",
       "      <td>0</td>\n",
       "      <td>0.0</td>\n",
       "      <td>0</td>\n",
       "    </tr>\n",
       "  </tbody>\n",
       "</table>\n",
       "<p>5 rows × 21 columns</p>\n",
       "</div>"
      ],
      "text/plain": [
       "                             App_Id                 App_Name  \\\n",
       "0               com.hkbu.arc.apaper           A+ Paper Guide   \n",
       "1               com.dmitriev.abooks                  A-Books   \n",
       "2                    no.terp.abooks                  A-books   \n",
       "3          fr.antoinettefleur.Book1              A-F Book #1   \n",
       "4  com.imonstersoft.azdictionaryios  A-Z Synonyms Dictionary   \n",
       "\n",
       "                                        AppStore_Url Primary_Genre  \\\n",
       "0  https://apps.apple.com/us/app/a-paper-guide/id...     Education   \n",
       "1  https://apps.apple.com/us/app/a-books/id103157...          Book   \n",
       "2  https://apps.apple.com/us/app/a-books/id145702...          Book   \n",
       "3  https://apps.apple.com/us/app/a-f-book-1/id500...          Book   \n",
       "4  https://apps.apple.com/us/app/a-z-synonyms-dic...     Reference   \n",
       "\n",
       "  Content_Rating  Size_Bytes Required_IOS_Version              Released  \\\n",
       "0             4+  21993472.0                  8.0  2017-09-28T03:02:41Z   \n",
       "1             4+  13135872.0                 10.0  2015-08-31T19:31:32Z   \n",
       "2             4+  21943296.0                  9.0  2021-04-14T07:00:00Z   \n",
       "3             4+  81851392.0                  8.0  2012-02-10T03:40:07Z   \n",
       "4             4+  64692224.0                  9.0  2020-12-16T08:00:00Z   \n",
       "\n",
       "                Updated Version  ...  Currency   Free  DeveloperId  \\\n",
       "0  2018-12-21T21:30:36Z   1.1.2  ...       USD   True   1375410542   \n",
       "1  2019-07-23T20:31:09Z     1.3  ...       USD   True   1031572001   \n",
       "2  2021-05-30T21:08:54Z   1.3.1  ...       USD   True   1457024163   \n",
       "3  2019-10-29T12:40:37Z     1.2  ...       USD  False    439568839   \n",
       "4  2020-12-18T21:36:11Z   1.0.1  ...       USD   True    656731821   \n",
       "\n",
       "        Developer                                      Developer_Url  \\\n",
       "0        HKBU ARC  https://apps.apple.com/us/developer/hkbu-arc/i...   \n",
       "1  Roman Dmitriev  https://apps.apple.com/us/developer/roman-dmit...   \n",
       "2         Terp AS  https://apps.apple.com/us/developer/terp-as/id...   \n",
       "3   i-editeur.com  https://apps.apple.com/us/developer/i-editeur-...   \n",
       "4   Ngov chiheang  https://apps.apple.com/us/developer/ngov-chihe...   \n",
       "\n",
       "         Developer_Website Average_User_Rating  Reviews  \\\n",
       "0                      NaN                 0.0        0   \n",
       "1                      NaN                 5.0        1   \n",
       "2                      NaN                 0.0        0   \n",
       "3                      NaN                 0.0        0   \n",
       "4  http://imonstersoft.com                 0.0        0   \n",
       "\n",
       "   Current_Version_Score  Current_Version_Reviews  \n",
       "0                    0.0                        0  \n",
       "1                    5.0                        1  \n",
       "2                    0.0                        0  \n",
       "3                    0.0                        0  \n",
       "4                    0.0                        0  \n",
       "\n",
       "[5 rows x 21 columns]"
      ]
     },
     "execution_count": 118,
     "metadata": {},
     "output_type": "execute_result"
    }
   ],
   "source": [
    "df.head(5)"
   ]
  },
  {
   "cell_type": "code",
   "execution_count": 119,
   "metadata": {},
   "outputs": [],
   "source": [
    "df[\"Content_Rating\"]= df[\"Content_Rating\"].replace(\"4+\", \"Children-4+\")\n",
    "df[\"Content_Rating\"]= df[\"Content_Rating\"].replace(\"9+\", \"Children-9+\")\n",
    "df[\"Content_Rating\"]= df[\"Content_Rating\"].replace(\"12+\", \"Teen\")\n",
    "df[\"Content_Rating\"]= df[\"Content_Rating\"].replace(\"17+\", \"Adults\")\n",
    "df[\"Content_Rating\"]= df[\"Content_Rating\"].replace(\"Not yet Rated\", \"Everyone\")"
   ]
  },
  {
   "cell_type": "code",
   "execution_count": 120,
   "metadata": {},
   "outputs": [
    {
     "name": "stdout",
     "output_type": "stream",
     "text": [
      "['Children-4+', 'Children-9+', 'Teen', 'Adults', 'Everyone']\n"
     ]
    }
   ],
   "source": [
    "Raters_age_group = df[\"Content_Rating\"].unique()\n",
    "# define the order of the group in which we want to print the values\n",
    "order_customise = ['Children-4+', 'Children-9+', 'Teen', 'Adults', 'Everyone']\n",
    "# sorting the array in customise way\n",
    "sorted_array = sorted(['Children-4+', 'Children-9+', 'Teen', 'Adults', 'Everyone'], key=lambda x: order_customise.index(x))\n",
    "# print the sorted array\n",
    "print(sorted_array)"
   ]
  },
  {
   "cell_type": "code",
   "execution_count": 121,
   "metadata": {},
   "outputs": [],
   "source": [
    "# Cleaning Average_User_Rating column\n",
    "df[\"Average_User_Rating\"] = df[\"Average_User_Rating\"].astype(int)"
   ]
  },
  {
   "cell_type": "code",
   "execution_count": 122,
   "metadata": {},
   "outputs": [
    {
     "data": {
      "text/plain": [
       "['Children-4+', 'Children-9+', 'Teen', 'Adults', 'Everyone']"
      ]
     },
     "execution_count": 122,
     "metadata": {},
     "output_type": "execute_result"
    }
   ],
   "source": [
    "sorted_array"
   ]
  },
  {
   "cell_type": "code",
   "execution_count": 123,
   "metadata": {},
   "outputs": [
    {
     "data": {
      "text/plain": [
       "Content_Rating  Primary_Genre    \n",
       "Adults          Business              16044\n",
       "                Games                 11233\n",
       "                Medical               10945\n",
       "                Food & Drink          10796\n",
       "                Lifestyle              8589\n",
       "                Health & Fitness       7878\n",
       "                Entertainment          7049\n",
       "                Social Networking      6387\n",
       "                Shopping               6296\n",
       "                Education              6265\n",
       "Children-4+     Games                143092\n",
       "                Business             108413\n",
       "                Education            106049\n",
       "                Utilities             85625\n",
       "                Lifestyle             67407\n",
       "                Food & Drink          55712\n",
       "                Productivity          54362\n",
       "                Health & Fitness      42811\n",
       "                Finance               41195\n",
       "                Travel                37660\n",
       "Children-9+     Games                 20075\n",
       "                Entertainment          2819\n",
       "                Shopping               2808\n",
       "                Music                  1258\n",
       "                Education              1149\n",
       "                Lifestyle               988\n",
       "                Stickers                949\n",
       "                Business                807\n",
       "                Social Networking       804\n",
       "                Utilities               623\n",
       "Not yet rated   Utilities                 2\n",
       "                Finance                   2\n",
       "                Sports                    1\n",
       "                Photo & Video             1\n",
       "                Navigation                1\n",
       "                Entertainment             1\n",
       "                Education                 1\n",
       "                Business                  1\n",
       "Teen            Games                 19349\n",
       "                Health & Fitness       9661\n",
       "                Lifestyle              7581\n",
       "                Medical                7400\n",
       "                Food & Drink           6458\n",
       "                Entertainment          6327\n",
       "                Education              5710\n",
       "                News                   4526\n",
       "                Social Networking      3519\n",
       "                Business               3032\n",
       "Name: count, dtype: int64"
      ]
     },
     "execution_count": 123,
     "metadata": {},
     "output_type": "execute_result"
    }
   ],
   "source": [
    "# what are the highest top 10 rated primary_genre based on content_rating\n",
    "top_10 = df.groupby('Content_Rating')['Primary_Genre'].value_counts().groupby(level=0).head(10)\n",
    "top_10\n"
   ]
  },
  {
   "cell_type": "markdown",
   "metadata": {},
   "source": [
    ">This output shows that the 'Children-4+' content rating category,  has the highest number of \"Games\" apps with 132,105 apps, followed by 'Business' with 105,823 apps, and so on. We can also see that the 'Games' genre is the most popular across all content rating categories, and that the 'Business' and 'Education' genres are also popular in the 'Children-4+' category."
   ]
  },
  {
   "cell_type": "code",
   "execution_count": 135,
   "metadata": {},
   "outputs": [
    {
     "data": {
      "text/plain": [
       "count    1.230376e+06\n",
       "mean     8.259478e+02\n",
       "std      5.016051e+04\n",
       "min      0.000000e+00\n",
       "25%      0.000000e+00\n",
       "50%      0.000000e+00\n",
       "75%      3.000000e+00\n",
       "max      2.268533e+07\n",
       "Name: Reviews, dtype: float64"
      ]
     },
     "execution_count": 135,
     "metadata": {},
     "output_type": "execute_result"
    }
   ],
   "source": [
    "df.Reviews.describe()"
   ]
  },
  {
   "cell_type": "markdown",
   "metadata": {},
   "source": [
    "> The summary statistics of Reviews columns shows that the majority of apps have 0 reviews, and that the maximum number of reviews is much higher than the average or median number of reviews."
   ]
  },
  {
   "cell_type": "markdown",
   "metadata": {},
   "source": [
    "Observation 6:\n",
    "The 'Reviews' column in the dataset contains numeric data that represents the number of reviews left by users while downloading or using the app. The range of values in this column is quite large, from 0 to 22,685,334. To make this data more manageable and easier to understand, we can create a new column called 'ReviewCategory' that groups the reviews into categories based on their value. \n",
    "\n",
    "The 'ReviewCategory' column can be defined as follows:\n",
    "\n",
    "- If an app has reviews between 0 and 10,000, it falls into the 'Less than 10K' category.\n",
    "- If an app has reviews between 10,000 and 500,000, it falls into the 'Between 10K and 500K' category.\n",
    "- If an app has reviews between 500,000 and 1,000,000, it falls into the 'Between 500K and 1Mil' category.\n",
    "- If an app has reviews between 1,000,000 and 22,685,334, it falls into the 'Million Plus' category.\n",
    "\n",
    "By grouping the reviews into categories, we can gain insights into the distribution of reviews across different apps and categories, and make it easier to analyze the data.\n"
   ]
  },
  {
   "cell_type": "code",
   "execution_count": 136,
   "metadata": {},
   "outputs": [
    {
     "data": {
      "text/plain": [
       "ReviewCategory\n",
       "NoReviewsProvided        684320\n",
       "Less than 10K            539032\n",
       "Between 10K and 500K       6726\n",
       "Million Plus                152\n",
       "Between 500K and 1Mil       146\n",
       "Name: count, dtype: int64"
      ]
     },
     "execution_count": 136,
     "metadata": {},
     "output_type": "execute_result"
    }
   ],
   "source": [
    "df['ReviewCategory'] = 'NoReviewsProvided'\n",
    "df.loc[(df['Reviews'] > 0) & (df['Reviews'] <= 10000.0),'ReviewCategory'] = 'Less than 10K'\n",
    "df.loc[(df['Reviews'] > 10000) & (df['Reviews'] <= 500000.0),'ReviewCategory'] = 'Between 10K and 500K'\n",
    "df.loc[(df['Reviews'] > 500000) & (df['Reviews'] <= 1000000),'ReviewCategory'] = 'Between 500K and 1Mil'\n",
    "df.loc[(df['Reviews'] > 1000000) & (df['Reviews'] <= 22685334),'ReviewCategory'] = 'Million Plus'\n",
    "df['ReviewCategory'].value_counts()\n"
   ]
  },
  {
   "cell_type": "markdown",
   "metadata": {},
   "source": [
    "#### Cleaning the Average_User_Rating:\n",
    "To clean the 'Average_User_Rating' column in the dataframe, we will round off the float decimal values and store them in the same column. Currently, the values in this column range from 0 to 5.\n"
   ]
  },
  {
   "cell_type": "code",
   "execution_count": 137,
   "metadata": {},
   "outputs": [],
   "source": [
    "df[\"Average_User_Rating\"] = df[\"Average_User_Rating\"].round().astype(int)"
   ]
  },
  {
   "cell_type": "markdown",
   "metadata": {},
   "source": [
    "\n",
    "\n"
   ]
  },
  {
   "cell_type": "code",
   "execution_count": 139,
   "metadata": {},
   "outputs": [
    {
     "data": {
      "text/plain": [
       "array([0, 5, 4, 3, 2, 1])"
      ]
     },
     "execution_count": 139,
     "metadata": {},
     "output_type": "execute_result"
    }
   ],
   "source": [
    "df.Average_User_Rating.unique()"
   ]
  },
  {
   "cell_type": "markdown",
   "metadata": {},
   "source": [
    "### 6.0- Questions and Answers:"
   ]
  },
  {
   "cell_type": "markdown",
   "metadata": {},
   "source": [
    "##### Question 1:  What is the distribution of apps across different Content Ratings?"
   ]
  },
  {
   "cell_type": "code",
   "execution_count": 141,
   "metadata": {},
   "outputs": [
    {
     "name": "stdout",
     "output_type": "stream",
     "text": [
      "Content_Rating\n",
      "Children-4+      980971\n",
      "Adults           124127\n",
      "Teen              89570\n",
      "Children-9+       35698\n",
      "Not yet rated        10\n",
      "Name: count, dtype: int64\n"
     ]
    }
   ],
   "source": [
    "content_rating_counts = df['Content_Rating'].value_counts()\n",
    "print(content_rating_counts)\n"
   ]
  },
  {
   "cell_type": "markdown",
   "metadata": {},
   "source": [
    "> Answer: This output shows that the 'Children-4+' category has the highest number of apps with 980,971 apps, followed by 'Adults' with 124,127 apps, 'Teen' with 89,570 apps, 'Children-9+' with 35,698 apps, and 'Not yet rated' with only 10 apps.\n"
   ]
  },
  {
   "cell_type": "code",
   "execution_count": 24,
   "metadata": {},
   "outputs": [
    {
     "data": {
      "text/plain": [
       "Content_Rating\n",
       "4+               980971\n",
       "17+              124127\n",
       "12+               89570\n",
       "9+                35698\n",
       "Not yet rated        10\n",
       "Name: count, dtype: int64"
      ]
     },
     "execution_count": 24,
     "metadata": {},
     "output_type": "execute_result"
    }
   ],
   "source": [
    "df[\"Content_Rating\"].value_counts()"
   ]
  },
  {
   "cell_type": "code",
   "execution_count": 15,
   "metadata": {},
   "outputs": [
    {
     "data": {
      "image/png": "[encoded data removed]",
      "text/plain": [
       "<Figure size 800x600 with 1 Axes>"
      ]
     },
     "metadata": {},
     "output_type": "display_data"
    }
   ],
   "source": [
    "import matplotlib.pyplot as plt\n",
    "\n",
    "# Create a pie chart of the top 10 content rating categories by app count\n",
    "plt.figure(figsize=(8,6))\n",
    "data = Top10_Cnt_Rating.groupby('Content_Rating')['Count'].max().sort_values(ascending=True)\n",
    "data = data.head(10)\n",
    "labels = data.keys()\n",
    "plt.pie(data, labels=labels, autopct='%.0f%%') \n",
    "plt.title(\"Top 10 Content Rating Categories by App Count\", fontsize=14)\n",
    "plt.show()"
   ]
  },
  {
   "cell_type": "markdown",
   "metadata": {},
   "source": [
    "### Question 2:What is the average user rating for each Content Rating category?"
   ]
  },
  {
   "cell_type": "code",
   "execution_count": 142,
   "metadata": {},
   "outputs": [
    {
     "name": "stdout",
     "output_type": "stream",
     "text": [
      "Content_Rating\n",
      "Adults           1.571254\n",
      "Children-4+      1.612459\n",
      "Children-9+      2.490504\n",
      "Not yet rated    1.100000\n",
      "Teen             2.105716\n",
      "Name: Average_User_Rating, dtype: float64\n"
     ]
    }
   ],
   "source": [
    "average_rating_by_content_rating = df.groupby('Content_Rating')['Average_User_Rating'].mean()\n",
    "print(average_rating_by_content_rating)\n"
   ]
  },
  {
   "cell_type": "markdown",
   "metadata": {},
   "source": [
    "> Answer: The output displays that the average user rating for each content rating category in the dataset. The highest average user rating is 2.4905 for the Children-9+ category, while the Adults content rating has an average user rating of 1.5712. It is interesting to note that the average user rating for the Children-4+ category (1.61245) is higher than that of the Adults category (1.57125). This could potentially be attributed to parents being more engaged with apps in the Children-4+ category. 😊"
   ]
  },
  {
   "cell_type": "markdown",
   "metadata": {},
   "source": [
    "#### Question 3:What is the most common price range for apps in each Content Rating category?\n"
   ]
  },
  {
   "cell_type": "code",
   "execution_count": 143,
   "metadata": {},
   "outputs": [
    {
     "name": "stdout",
     "output_type": "stream",
     "text": [
      "Content_Rating\n",
      "Adults           0.0\n",
      "Children-4+      0.0\n",
      "Children-9+      0.0\n",
      "Not yet rated    0.0\n",
      "Teen             0.0\n",
      "Name: Price, dtype: float64\n"
     ]
    }
   ],
   "source": [
    "common_price_range_by_content_rating = df.groupby('Content_Rating')['Price'].apply(lambda x: x.value_counts().index[0])\n",
    "print(common_price_range_by_content_rating)\n"
   ]
  },
  {
   "cell_type": "markdown",
   "metadata": {},
   "source": [
    "Answer: There isn't a single price range that applies to all age categories. 😊"
   ]
  },
  {
   "cell_type": "markdown",
   "metadata": {},
   "source": [
    "### Question 4: What is the average size of apps in each Content Rating category?"
   ]
  },
  {
   "cell_type": "code",
   "execution_count": 196,
   "metadata": {},
   "outputs": [],
   "source": [
    "df['Size_MB'] = df['Size_Bytes'].apply(lambda x: (float(x) / 1024)/1024)"
   ]
  },
  {
   "cell_type": "code",
   "execution_count": 197,
   "metadata": {},
   "outputs": [
    {
     "name": "stdout",
     "output_type": "stream",
     "text": [
      "Content_Rating\n",
      "12+              107.551837\n",
      "17+               75.684010\n",
      "4+                65.297522\n",
      "9+               141.562220\n",
      "Not yet rated     23.096928\n",
      "Name: Size_MB, dtype: float64\n"
     ]
    }
   ],
   "source": [
    "average_size_by_content_rating = df.groupby('Content_Rating')['Size_MB'].mean()\n",
    "print(average_size_by_content_rating)\n"
   ]
  },
  {
   "cell_type": "markdown",
   "metadata": {},
   "source": [
    "> Answer: The output shows the average size of apps in megabytes (MB) for each content rating category in the dataset. The '9+' category has the highest average app size with 141.562220 MB, followed by '12+' with 107.551837 MB, '17+' with 75.684010 MB, '4+' with 65.297522 MB, and 'Not yet rated' with 23.096928 MB."
   ]
  },
  {
   "cell_type": "markdown",
   "metadata": {},
   "source": [
    "### Question 5: What are the top 5 most popular app genres for each Content Rating category?"
   ]
  },
  {
   "cell_type": "code",
   "execution_count": 146,
   "metadata": {},
   "outputs": [
    {
     "name": "stdout",
     "output_type": "stream",
     "text": [
      "Content_Rating  Content_Rating  Primary_Genre   \n",
      "Adults          Adults          Business             16044\n",
      "                                Games                11233\n",
      "                                Medical              10945\n",
      "                                Food & Drink         10796\n",
      "                                Lifestyle             8589\n",
      "Children-4+     Children-4+     Games               143092\n",
      "                                Business            108413\n",
      "                                Education           106049\n",
      "                                Utilities            85625\n",
      "                                Lifestyle            67407\n",
      "Children-9+     Children-9+     Games                20075\n",
      "                                Entertainment         2819\n",
      "                                Shopping              2808\n",
      "                                Music                 1258\n",
      "                                Education             1149\n",
      "Not yet rated   Not yet rated   Finance                  2\n",
      "                                Utilities                2\n",
      "                                Business                 1\n",
      "                                Education                1\n",
      "                                Entertainment            1\n",
      "Teen            Teen            Games                19349\n",
      "                                Health & Fitness      9661\n",
      "                                Lifestyle             7581\n",
      "                                Medical               7400\n",
      "                                Food & Drink          6458\n",
      "Name: Primary_Genre, dtype: int64\n"
     ]
    }
   ],
   "source": [
    "top_5_genres_by_content_rating = df.groupby(['Content_Rating', 'Primary_Genre'])['Primary_Genre'].count().groupby('Content_Rating').nlargest(5)\n",
    "print(top_5_genres_by_content_rating)\n"
   ]
  },
  {
   "cell_type": "code",
   "execution_count": 169,
   "metadata": {},
   "outputs": [
    {
     "data": {
      "text/html": [
       "<div>\n",
       "<style scoped>\n",
       "    .dataframe tbody tr th:only-of-type {\n",
       "        vertical-align: middle;\n",
       "    }\n",
       "\n",
       "    .dataframe tbody tr th {\n",
       "        vertical-align: top;\n",
       "    }\n",
       "\n",
       "    .dataframe thead th {\n",
       "        text-align: right;\n",
       "    }\n",
       "</style>\n",
       "<table border=\"1\" class=\"dataframe\">\n",
       "  <thead>\n",
       "    <tr style=\"text-align: right;\">\n",
       "      <th></th>\n",
       "      <th>App_Id</th>\n",
       "      <th>App_Name</th>\n",
       "      <th>AppStore_Url</th>\n",
       "      <th>Primary_Genre</th>\n",
       "      <th>Content_Rating</th>\n",
       "      <th>Size_Bytes</th>\n",
       "      <th>Required_IOS_Version</th>\n",
       "      <th>Released</th>\n",
       "      <th>Updated</th>\n",
       "      <th>Version</th>\n",
       "      <th>...</th>\n",
       "      <th>Currency</th>\n",
       "      <th>Free</th>\n",
       "      <th>DeveloperId</th>\n",
       "      <th>Developer</th>\n",
       "      <th>Developer_Url</th>\n",
       "      <th>Developer_Website</th>\n",
       "      <th>Average_User_Rating</th>\n",
       "      <th>Reviews</th>\n",
       "      <th>Current_Version_Score</th>\n",
       "      <th>Current_Version_Reviews</th>\n",
       "    </tr>\n",
       "  </thead>\n",
       "  <tbody>\n",
       "    <tr>\n",
       "      <th>0</th>\n",
       "      <td>com.hkbu.arc.apaper</td>\n",
       "      <td>A+ Paper Guide</td>\n",
       "      <td>https://apps.apple.com/us/app/a-paper-guide/id...</td>\n",
       "      <td>Education</td>\n",
       "      <td>4+</td>\n",
       "      <td>21993472.0</td>\n",
       "      <td>8.0</td>\n",
       "      <td>2017-09-28T03:02:41Z</td>\n",
       "      <td>2018-12-21T21:30:36Z</td>\n",
       "      <td>1.1.2</td>\n",
       "      <td>...</td>\n",
       "      <td>USD</td>\n",
       "      <td>True</td>\n",
       "      <td>1375410542</td>\n",
       "      <td>HKBU ARC</td>\n",
       "      <td>https://apps.apple.com/us/developer/hkbu-arc/i...</td>\n",
       "      <td>NaN</td>\n",
       "      <td>0.0</td>\n",
       "      <td>0</td>\n",
       "      <td>0.0</td>\n",
       "      <td>0</td>\n",
       "    </tr>\n",
       "    <tr>\n",
       "      <th>1</th>\n",
       "      <td>com.dmitriev.abooks</td>\n",
       "      <td>A-Books</td>\n",
       "      <td>https://apps.apple.com/us/app/a-books/id103157...</td>\n",
       "      <td>Book</td>\n",
       "      <td>4+</td>\n",
       "      <td>13135872.0</td>\n",
       "      <td>10.0</td>\n",
       "      <td>2015-08-31T19:31:32Z</td>\n",
       "      <td>2019-07-23T20:31:09Z</td>\n",
       "      <td>1.3</td>\n",
       "      <td>...</td>\n",
       "      <td>USD</td>\n",
       "      <td>True</td>\n",
       "      <td>1031572001</td>\n",
       "      <td>Roman Dmitriev</td>\n",
       "      <td>https://apps.apple.com/us/developer/roman-dmit...</td>\n",
       "      <td>NaN</td>\n",
       "      <td>5.0</td>\n",
       "      <td>1</td>\n",
       "      <td>5.0</td>\n",
       "      <td>1</td>\n",
       "    </tr>\n",
       "    <tr>\n",
       "      <th>2</th>\n",
       "      <td>no.terp.abooks</td>\n",
       "      <td>A-books</td>\n",
       "      <td>https://apps.apple.com/us/app/a-books/id145702...</td>\n",
       "      <td>Book</td>\n",
       "      <td>4+</td>\n",
       "      <td>21943296.0</td>\n",
       "      <td>9.0</td>\n",
       "      <td>2021-04-14T07:00:00Z</td>\n",
       "      <td>2021-05-30T21:08:54Z</td>\n",
       "      <td>1.3.1</td>\n",
       "      <td>...</td>\n",
       "      <td>USD</td>\n",
       "      <td>True</td>\n",
       "      <td>1457024163</td>\n",
       "      <td>Terp AS</td>\n",
       "      <td>https://apps.apple.com/us/developer/terp-as/id...</td>\n",
       "      <td>NaN</td>\n",
       "      <td>0.0</td>\n",
       "      <td>0</td>\n",
       "      <td>0.0</td>\n",
       "      <td>0</td>\n",
       "    </tr>\n",
       "    <tr>\n",
       "      <th>3</th>\n",
       "      <td>fr.antoinettefleur.Book1</td>\n",
       "      <td>A-F Book #1</td>\n",
       "      <td>https://apps.apple.com/us/app/a-f-book-1/id500...</td>\n",
       "      <td>Book</td>\n",
       "      <td>4+</td>\n",
       "      <td>81851392.0</td>\n",
       "      <td>8.0</td>\n",
       "      <td>2012-02-10T03:40:07Z</td>\n",
       "      <td>2019-10-29T12:40:37Z</td>\n",
       "      <td>1.2</td>\n",
       "      <td>...</td>\n",
       "      <td>USD</td>\n",
       "      <td>False</td>\n",
       "      <td>439568839</td>\n",
       "      <td>i-editeur.com</td>\n",
       "      <td>https://apps.apple.com/us/developer/i-editeur-...</td>\n",
       "      <td>NaN</td>\n",
       "      <td>0.0</td>\n",
       "      <td>0</td>\n",
       "      <td>0.0</td>\n",
       "      <td>0</td>\n",
       "    </tr>\n",
       "    <tr>\n",
       "      <th>4</th>\n",
       "      <td>com.imonstersoft.azdictionaryios</td>\n",
       "      <td>A-Z Synonyms Dictionary</td>\n",
       "      <td>https://apps.apple.com/us/app/a-z-synonyms-dic...</td>\n",
       "      <td>Reference</td>\n",
       "      <td>4+</td>\n",
       "      <td>64692224.0</td>\n",
       "      <td>9.0</td>\n",
       "      <td>2020-12-16T08:00:00Z</td>\n",
       "      <td>2020-12-18T21:36:11Z</td>\n",
       "      <td>1.0.1</td>\n",
       "      <td>...</td>\n",
       "      <td>USD</td>\n",
       "      <td>True</td>\n",
       "      <td>656731821</td>\n",
       "      <td>Ngov chiheang</td>\n",
       "      <td>https://apps.apple.com/us/developer/ngov-chihe...</td>\n",
       "      <td>http://imonstersoft.com</td>\n",
       "      <td>0.0</td>\n",
       "      <td>0</td>\n",
       "      <td>0.0</td>\n",
       "      <td>0</td>\n",
       "    </tr>\n",
       "  </tbody>\n",
       "</table>\n",
       "<p>5 rows × 21 columns</p>\n",
       "</div>"
      ],
      "text/plain": [
       "                             App_Id                 App_Name  \\\n",
       "0               com.hkbu.arc.apaper           A+ Paper Guide   \n",
       "1               com.dmitriev.abooks                  A-Books   \n",
       "2                    no.terp.abooks                  A-books   \n",
       "3          fr.antoinettefleur.Book1              A-F Book #1   \n",
       "4  com.imonstersoft.azdictionaryios  A-Z Synonyms Dictionary   \n",
       "\n",
       "                                        AppStore_Url Primary_Genre  \\\n",
       "0  https://apps.apple.com/us/app/a-paper-guide/id...     Education   \n",
       "1  https://apps.apple.com/us/app/a-books/id103157...          Book   \n",
       "2  https://apps.apple.com/us/app/a-books/id145702...          Book   \n",
       "3  https://apps.apple.com/us/app/a-f-book-1/id500...          Book   \n",
       "4  https://apps.apple.com/us/app/a-z-synonyms-dic...     Reference   \n",
       "\n",
       "  Content_Rating  Size_Bytes Required_IOS_Version              Released  \\\n",
       "0             4+  21993472.0                  8.0  2017-09-28T03:02:41Z   \n",
       "1             4+  13135872.0                 10.0  2015-08-31T19:31:32Z   \n",
       "2             4+  21943296.0                  9.0  2021-04-14T07:00:00Z   \n",
       "3             4+  81851392.0                  8.0  2012-02-10T03:40:07Z   \n",
       "4             4+  64692224.0                  9.0  2020-12-16T08:00:00Z   \n",
       "\n",
       "                Updated Version  ...  Currency   Free  DeveloperId  \\\n",
       "0  2018-12-21T21:30:36Z   1.1.2  ...       USD   True   1375410542   \n",
       "1  2019-07-23T20:31:09Z     1.3  ...       USD   True   1031572001   \n",
       "2  2021-05-30T21:08:54Z   1.3.1  ...       USD   True   1457024163   \n",
       "3  2019-10-29T12:40:37Z     1.2  ...       USD  False    439568839   \n",
       "4  2020-12-18T21:36:11Z   1.0.1  ...       USD   True    656731821   \n",
       "\n",
       "        Developer                                      Developer_Url  \\\n",
       "0        HKBU ARC  https://apps.apple.com/us/developer/hkbu-arc/i...   \n",
       "1  Roman Dmitriev  https://apps.apple.com/us/developer/roman-dmit...   \n",
       "2         Terp AS  https://apps.apple.com/us/developer/terp-as/id...   \n",
       "3   i-editeur.com  https://apps.apple.com/us/developer/i-editeur-...   \n",
       "4   Ngov chiheang  https://apps.apple.com/us/developer/ngov-chihe...   \n",
       "\n",
       "         Developer_Website Average_User_Rating  Reviews  \\\n",
       "0                      NaN                 0.0        0   \n",
       "1                      NaN                 5.0        1   \n",
       "2                      NaN                 0.0        0   \n",
       "3                      NaN                 0.0        0   \n",
       "4  http://imonstersoft.com                 0.0        0   \n",
       "\n",
       "   Current_Version_Score  Current_Version_Reviews  \n",
       "0                    0.0                        0  \n",
       "1                    5.0                        1  \n",
       "2                    0.0                        0  \n",
       "3                    0.0                        0  \n",
       "4                    0.0                        0  \n",
       "\n",
       "[5 rows x 21 columns]"
      ]
     },
     "execution_count": 169,
     "metadata": {},
     "output_type": "execute_result"
    }
   ],
   "source": [
    "df = pd.read_csv('appleAppData.csv')\n",
    "df.head(5)"
   ]
  },
  {
   "cell_type": "code",
   "execution_count": 170,
   "metadata": {},
   "outputs": [
    {
     "data": {
      "text/plain": [
       "Index(['App_Id', 'App_Name', 'AppStore_Url', 'Primary_Genre', 'Content_Rating',\n",
       "       'Size_Bytes', 'Required_IOS_Version', 'Released', 'Updated', 'Version',\n",
       "       'Price', 'Currency', 'Free', 'DeveloperId', 'Developer',\n",
       "       'Developer_Url', 'Developer_Website', 'Average_User_Rating', 'Reviews',\n",
       "       'Current_Version_Score', 'Current_Version_Reviews'],\n",
       "      dtype='object')"
      ]
     },
     "execution_count": 170,
     "metadata": {},
     "output_type": "execute_result"
    }
   ],
   "source": [
    "df.columns"
   ]
  },
  {
   "cell_type": "markdown",
   "metadata": {},
   "source": [
    "### Question 6: What is the percentage of free vs paid apps in each Content Rating category?"
   ]
  },
  {
   "cell_type": "code",
   "execution_count": 182,
   "metadata": {},
   "outputs": [
    {
     "name": "stdout",
     "output_type": "stream",
     "text": [
      "Free            Free_Percentage  Paid_Percentage\n",
      "Content_Rating                                  \n",
      "12+                    0.931975         0.068025\n",
      "17+                    0.961048         0.038952\n",
      "4+                     0.910183         0.089817\n",
      "9+                     0.889322         0.110678\n",
      "Not yet rated          0.500000         0.500000\n"
     ]
    }
   ],
   "source": [
    "free_paid_counts_by_content_rating = df.groupby(['Content_Rating', 'Free'])['Free'].count().unstack()\n",
    "free_paid_counts_by_content_rating['Total'] = free_paid_counts_by_content_rating[True] + free_paid_counts_by_content_rating[False]\n",
    "free_paid_counts_by_content_rating['Free_Percentage'] = free_paid_counts_by_content_rating[True] / free_paid_counts_by_content_rating['Total']\n",
    "free_paid_counts_by_content_rating['Paid_Percentage'] = free_paid_counts_by_content_rating[False] / free_paid_counts_by_content_rating['Total']\n",
    "print(free_paid_counts_by_content_rating[['Free_Percentage', 'Paid_Percentage']])\n"
   ]
  },
  {
   "cell_type": "markdown",
   "metadata": {},
   "source": [
    "### Question 7 :What is the average price of apps in each Content Rating category?"
   ]
  },
  {
   "cell_type": "code",
   "execution_count": 184,
   "metadata": {},
   "outputs": [
    {
     "name": "stdout",
     "output_type": "stream",
     "text": [
      "Content_Rating\n",
      "12+              0.432599\n",
      "17+              0.382353\n",
      "4+               0.530955\n",
      "9+               0.369215\n",
      "Not yet rated    0.895000\n",
      "Name: Price, dtype: float64\n"
     ]
    }
   ],
   "source": [
    "average_price_by_content_rating = df.groupby('Content_Rating')['Price'].mean()\n",
    "print(average_price_by_content_rating)\n"
   ]
  },
  {
   "cell_type": "markdown",
   "metadata": {},
   "source": [
    "### Question 8:What is the average current version score for apps in each Content Rating category?"
   ]
  },
  {
   "cell_type": "code",
   "execution_count": 186,
   "metadata": {},
   "outputs": [
    {
     "name": "stdout",
     "output_type": "stream",
     "text": [
      "Content_Rating\n",
      "12+              2.275589\n",
      "17+              1.675438\n",
      "4+               1.725043\n",
      "9+               2.699475\n",
      "Not yet rated    1.339046\n",
      "Name: Current_Version_Score, dtype: float64\n"
     ]
    }
   ],
   "source": [
    "average_current_version_score_by_content_rating = df.groupby('Content_Rating')['Current_Version_Score'].mean()\n",
    "print(average_current_version_score_by_content_rating)\n"
   ]
  },
  {
   "cell_type": "markdown",
   "metadata": {},
   "source": [
    "#### Question 9: What is the median number of reviews for apps in each Content Rating category?"
   ]
  },
  {
   "cell_type": "code",
   "execution_count": 187,
   "metadata": {},
   "outputs": [
    {
     "name": "stdout",
     "output_type": "stream",
     "text": [
      "Content_Rating\n",
      "12+              1.0\n",
      "17+              0.0\n",
      "4+               0.0\n",
      "9+               2.0\n",
      "Not yet rated    1.0\n",
      "Name: Reviews, dtype: float64\n"
     ]
    }
   ],
   "source": [
    "median_reviews_by_content_rating = df.groupby('Content_Rating')['Reviews'].median()\n",
    "print(median_reviews_by_content_rating)\n"
   ]
  },
  {
   "cell_type": "markdown",
   "metadata": {},
   "source": [
    "#### Question 10: Do the content ratings of Apple apps match their intended audience?\n",
    "\n"
   ]
  },
  {
   "cell_type": "code",
   "execution_count": 188,
   "metadata": {},
   "outputs": [
    {
     "data": {
      "text/plain": [
       "Content_Rating  Primary_Genre    \n",
       "12+             Games                 19349\n",
       "                Health & Fitness       9661\n",
       "                Lifestyle              7581\n",
       "                Medical                7400\n",
       "                Food & Drink           6458\n",
       "                Entertainment          6327\n",
       "                Education              5710\n",
       "                News                   4526\n",
       "                Social Networking      3519\n",
       "                Business               3032\n",
       "17+             Business              16044\n",
       "                Games                 11233\n",
       "                Medical               10945\n",
       "                Food & Drink          10796\n",
       "                Lifestyle              8589\n",
       "                Health & Fitness       7878\n",
       "                Entertainment          7049\n",
       "                Social Networking      6387\n",
       "                Shopping               6296\n",
       "                Education              6265\n",
       "4+              Games                143092\n",
       "                Business             108413\n",
       "                Education            106049\n",
       "                Utilities             85625\n",
       "                Lifestyle             67407\n",
       "                Food & Drink          55712\n",
       "                Productivity          54362\n",
       "                Health & Fitness      42811\n",
       "                Finance               41195\n",
       "                Travel                37660\n",
       "9+              Games                 20075\n",
       "                Entertainment          2819\n",
       "                Shopping               2808\n",
       "                Music                  1258\n",
       "                Education              1149\n",
       "                Lifestyle               988\n",
       "                Stickers                949\n",
       "                Business                807\n",
       "                Social Networking       804\n",
       "                Utilities               623\n",
       "Not yet rated   Finance                   2\n",
       "                Utilities                 2\n",
       "                Business                  1\n",
       "                Education                 1\n",
       "                Entertainment             1\n",
       "                Navigation                1\n",
       "                Photo & Video             1\n",
       "                Sports                    1\n",
       "Name: count, dtype: int64"
      ]
     },
     "execution_count": 188,
     "metadata": {},
     "output_type": "execute_result"
    }
   ],
   "source": [
    "top_10 = df.groupby('Content_Rating')['Primary_Genre'].value_counts().groupby(level=0).head(10)\n",
    "top_10"
   ]
  },
  {
   "cell_type": "markdown",
   "metadata": {},
   "source": [
    ">The content across different content ratings needs to be adjusted. For example, the Finance category is currently considered suitable for children aged 4 and above, while the Business category is considered appropriate for children aged 4 and above, as well as teenagers. 😊"
   ]
  },
  {
   "cell_type": "markdown",
   "metadata": {},
   "source": [
    "### Question 11: What are the  top 10 developers for each Content Rating category? "
   ]
  },
  {
   "cell_type": "code",
   "execution_count": 19,
   "metadata": {},
   "outputs": [
    {
     "data": {
      "text/html": [
       "<div>\n",
       "<style scoped>\n",
       "    .dataframe tbody tr th:only-of-type {\n",
       "        vertical-align: middle;\n",
       "    }\n",
       "\n",
       "    .dataframe tbody tr th {\n",
       "        vertical-align: top;\n",
       "    }\n",
       "\n",
       "    .dataframe thead th {\n",
       "        text-align: right;\n",
       "    }\n",
       "</style>\n",
       "<table border=\"1\" class=\"dataframe\">\n",
       "  <thead>\n",
       "    <tr style=\"text-align: right;\">\n",
       "      <th></th>\n",
       "      <th>Content_Rating</th>\n",
       "      <th>Developer</th>\n",
       "      <th>Count</th>\n",
       "    </tr>\n",
       "  </thead>\n",
       "  <tbody>\n",
       "    <tr>\n",
       "      <th>204078</th>\n",
       "      <td>4+</td>\n",
       "      <td>ChowNow</td>\n",
       "      <td>3965</td>\n",
       "    </tr>\n",
       "    <tr>\n",
       "      <th>485218</th>\n",
       "      <td>4+</td>\n",
       "      <td>Touch2Success</td>\n",
       "      <td>1642</td>\n",
       "    </tr>\n",
       "    <tr>\n",
       "      <th>153359</th>\n",
       "      <td>4+</td>\n",
       "      <td>Alexander Velimirovic</td>\n",
       "      <td>1504</td>\n",
       "    </tr>\n",
       "    <tr>\n",
       "      <th>344857</th>\n",
       "      <td>4+</td>\n",
       "      <td>MINDBODY, Incorporated</td>\n",
       "      <td>1246</td>\n",
       "    </tr>\n",
       "    <tr>\n",
       "      <th>403658</th>\n",
       "      <td>4+</td>\n",
       "      <td>Phorest</td>\n",
       "      <td>1131</td>\n",
       "    </tr>\n",
       "    <tr>\n",
       "      <th>105082</th>\n",
       "      <td>17+</td>\n",
       "      <td>OFFLINE MAP TRIP GUIDE LTD</td>\n",
       "      <td>1021</td>\n",
       "    </tr>\n",
       "    <tr>\n",
       "      <th>347850</th>\n",
       "      <td>4+</td>\n",
       "      <td>Magzter Inc.</td>\n",
       "      <td>878</td>\n",
       "    </tr>\n",
       "    <tr>\n",
       "      <th>142587</th>\n",
       "      <td>4+</td>\n",
       "      <td>ASK Video</td>\n",
       "      <td>772</td>\n",
       "    </tr>\n",
       "    <tr>\n",
       "      <th>414744</th>\n",
       "      <td>4+</td>\n",
       "      <td>RAPID ACCELERATION INDIA PRIVATE LIMITED</td>\n",
       "      <td>706</td>\n",
       "    </tr>\n",
       "    <tr>\n",
       "      <th>382868</th>\n",
       "      <td>4+</td>\n",
       "      <td>Nonlinear Educating Inc.</td>\n",
       "      <td>552</td>\n",
       "    </tr>\n",
       "  </tbody>\n",
       "</table>\n",
       "</div>"
      ],
      "text/plain": [
       "       Content_Rating                                 Developer  Count\n",
       "204078             4+                                   ChowNow   3965\n",
       "485218             4+                             Touch2Success   1642\n",
       "153359             4+                     Alexander Velimirovic   1504\n",
       "344857             4+                    MINDBODY, Incorporated   1246\n",
       "403658             4+                                   Phorest   1131\n",
       "105082            17+                OFFLINE MAP TRIP GUIDE LTD   1021\n",
       "347850             4+                              Magzter Inc.    878\n",
       "142587             4+                                 ASK Video    772\n",
       "414744             4+  RAPID ACCELERATION INDIA PRIVATE LIMITED    706\n",
       "382868             4+                  Nonlinear Educating Inc.    552"
      ]
     },
     "execution_count": 19,
     "metadata": {},
     "output_type": "execute_result"
    }
   ],
   "source": [
    "# group the dataset by Content Rating and Developer, and count the number of apps in each group\n",
    "Top10_Cnt_ContentRating = df.groupby(['Content_Rating', 'Developer']).size().reset_index(name='Count')\n",
    "\n",
    "# load top 10 free apps\n",
    "Top10_Cnt_App_ContentRating = Top10_Cnt_ContentRating.sort_values(by='Count', ascending=False).head(10)\n",
    "Top10_Cnt_App_ContentRating\n"
   ]
  },
  {
   "cell_type": "code",
   "execution_count": 21,
   "metadata": {},
   "outputs": [
    {
     "data": {
      "image/png": "[encoded data removed]",
      "text/plain": [
       "<Figure size 1000x600 with 1 Axes>"
      ]
     },
     "metadata": {},
     "output_type": "display_data"
    }
   ],
   "source": [
    "import matplotlib.pyplot as plt\n",
    "import seaborn as sns\n",
    "\n",
    "# set the style and size of the plot\n",
    "sns.set(style=\"whitegrid\")\n",
    "plt.figure(figsize=(10,6))\n",
    "\n",
    "# create a bar chart of the top 10 developers for each Content Rating category\n",
    "ax = sns.barplot(x=\"Count\", y=\"Developer\", data=Top10_Cnt_App_ContentRating, palette=\"Blues_d\")\n",
    "\n",
    "# set the title and labels of the plot\n",
    "ax.set_title(\"Top 10 App Producing Developers by Content Rating\", fontsize=14)\n",
    "ax.set_xlabel(\"Number of Apps\", fontsize=12)\n",
    "ax.set_ylabel(\"Developer\", fontsize=12)\n",
    "\n",
    "# show the plot\n",
    "plt.show()\n"
   ]
  },
  {
   "cell_type": "markdown",
   "metadata": {},
   "source": [
    "#### Question 12: What is the relationship between the price and number of reviews of paid apps?\n",
    "The Pearson correlation coefficient suggests that there is little to no linear correlation between the price and number of reviews of paid apps. In other words, the price of a paid app does not seem to have a significant impact on the number of reviews it receives.\n"
   ]
  },
  {
   "cell_type": "markdown",
   "metadata": {},
   "source": [
    "### Box plot of the distribution of app prices in each Content Rating category:"
   ]
  },
  {
   "cell_type": "code",
   "execution_count": 194,
   "metadata": {},
   "outputs": [
    {
     "data": {
      "image/png": "[encoded data removed]",
      "text/plain": [
       "<Figure size 1500x700 with 1 Axes>"
      ]
     },
     "metadata": {},
     "output_type": "display_data"
    }
   ],
   "source": [
    "sns.boxplot(x='Content_Rating', y='Price', data=df)\n",
    "plt.xlabel('Content Rating')\n",
    "plt.ylabel('Price')\n",
    "plt.show()\n"
   ]
  },
  {
   "cell_type": "markdown",
   "metadata": {},
   "source": [
    "# 7.0 - *Summary,Findings and Conclusions*\n"
   ]
  },
  {
   "cell_type": "markdown",
   "metadata": {},
   "source": [
    "- The primary aim of the project was to gain insights into Apple App Store data, with apps classified by genre, rating, price, and other features.\n",
    "- The dataset was a Pandas DataFrame with 1230376 rows and 21 columns, with some missing values in certain columns.\n",
    "- There were 6 numeric columns in the dataset because Developer ID is a unique value.\n",
    "- The \"Developer_Website\" column had the highest percentage of null values and had been dropped or filled using external data sources.\n",
    "- Price, Size_Bytes, and Developer_Url also contained missing values and  filled using a mapping dictionary approach.\n",
    "- All null values had been removed from the dataset and duplicate values had been analyzed for validity.\n",
    "- A plot displays the relationship between the price and size of paid apps, with the majority of apps having a content rating of 4+ and the range of prices and sizes extending up to the maximum point of the 17+ content rating.\n",
    " - The Pearson correlation coefficient between the price and number of reviews of paid apps was -0.0006359933405874481, suggesting  no linear correlation between the two variables.\n",
    "- The 'Children-4+' content rating category had the highest number of \"Games\" apps with 132,105 apps, followed by 'Business' with 105,823 apps.\n",
    "- The 'Games' genre was the most popular across all content rating categories, and the 'Business' and 'Education' genres were also popular in the 'Children-4+' category.\n",
    "- The 'Reviews' column in the dataset contains numeric data that can be grouped into categories based on their value to make the data more manageable and easier to understand.\n",
    "- The 'Children-4+' category had the highest number of apps with 980,971 apps, followed by 'Adults' with 124,127 apps, 'Teen' with 89,570 apps, 'Children-9+' with 35,698 apps, and 'Not yet rated' with only 10 apps.\n",
    "- The highest average user rating was 2.4905 for the Children-9+ category, while the Adults content rating had an average user rating of 1.5712.\n",
    "- The content across different content ratings needs to be adjusted. For example, the Finance category is currently considered suitable for children aged 4 and above, while the Business category is considered appropriate for children aged 4 and above, as well as teenagers.\n"
   ]
  },
  {
   "cell_type": "markdown",
   "metadata": {},
   "source": []
  },
  {
   "cell_type": "code",
   "execution_count": null,
   "metadata": {},
   "outputs": [],
   "source": []
  }
 ],
 "metadata": {
  "kernelspec": {
   "display_name": "Python 3",
   "language": "python",
   "name": "python3"
  },
  "language_info": {
   "codemirror_mode": {
    "name": "ipython",
    "version": 3
   },
   "file_extension": ".py",
   "mimetype": "text/x-python",
   "name": "python",
   "nbconvert_exporter": "python",
   "pygments_lexer": "ipython3",
   "version": "3.11.4"
  },
  "orig_nbformat": 4
 },
 "nbformat": 4,
 "nbformat_minor": 2
}
